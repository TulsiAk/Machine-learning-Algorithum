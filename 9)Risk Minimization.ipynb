{
 "cells": [
  {
   "cell_type": "code",
   "execution_count": 2,
   "id": "561a1759-c5d9-4707-9cc9-84de8dd158f5",
   "metadata": {},
   "outputs": [],
   "source": [
    "import warnings\n",
    "warnings.filterwarnings(\"ignore\")\n"
   ]
  },
  {
   "cell_type": "code",
   "execution_count": 10,
   "id": "cff188d0-9c03-47ee-8741-db0b5f4e67d1",
   "metadata": {},
   "outputs": [],
   "source": [
    "import numpy as np\n",
    "import panda as pd\n",
    "import matplotlib.pyplot as plt\n",
    "import seaborn as sns\n",
    "from sklearn.model_selection import train_test_split\n",
    "from sklearn.naive_bayes import GaussianNB\n",
    "from sklearn.metrics import accuracy_score, precision_score, recall_score,f1_score, confusion_matrix, classification_report"
   ]
  },
  {
   "cell_type": "code",
   "execution_count": 23,
   "id": "13683586-1c75-46c6-8464-8cd170c0edc9",
   "metadata": {},
   "outputs": [
    {
     "data": {
      "text/html": [
       "<div>\n",
       "<style scoped>\n",
       "    .dataframe tbody tr th:only-of-type {\n",
       "        vertical-align: middle;\n",
       "    }\n",
       "\n",
       "    .dataframe tbody tr th {\n",
       "        vertical-align: top;\n",
       "    }\n",
       "\n",
       "    .dataframe thead th {\n",
       "        text-align: right;\n",
       "    }\n",
       "</style>\n",
       "<table border=\"1\" class=\"dataframe\">\n",
       "  <thead>\n",
       "    <tr style=\"text-align: right;\">\n",
       "      <th></th>\n",
       "      <th>39</th>\n",
       "      <th>State-gov</th>\n",
       "      <th>77516</th>\n",
       "      <th>Bachelors</th>\n",
       "      <th>13</th>\n",
       "      <th>Never-married</th>\n",
       "      <th>Adm-clerical</th>\n",
       "      <th>Not-in-family</th>\n",
       "      <th>White</th>\n",
       "      <th>Male</th>\n",
       "      <th>2174</th>\n",
       "      <th>0</th>\n",
       "      <th>40</th>\n",
       "      <th>United-States</th>\n",
       "      <th>&lt;=50K</th>\n",
       "    </tr>\n",
       "  </thead>\n",
       "  <tbody>\n",
       "    <tr>\n",
       "      <th>0</th>\n",
       "      <td>50</td>\n",
       "      <td>Self-emp-not-inc</td>\n",
       "      <td>83311</td>\n",
       "      <td>Bachelors</td>\n",
       "      <td>13</td>\n",
       "      <td>Married-civ-spouse</td>\n",
       "      <td>Exec-managerial</td>\n",
       "      <td>Husband</td>\n",
       "      <td>White</td>\n",
       "      <td>Male</td>\n",
       "      <td>0</td>\n",
       "      <td>0</td>\n",
       "      <td>13</td>\n",
       "      <td>United-States</td>\n",
       "      <td>&lt;=50K</td>\n",
       "    </tr>\n",
       "    <tr>\n",
       "      <th>1</th>\n",
       "      <td>38</td>\n",
       "      <td>Private</td>\n",
       "      <td>215646</td>\n",
       "      <td>HS-grad</td>\n",
       "      <td>9</td>\n",
       "      <td>Divorced</td>\n",
       "      <td>Handlers-cleaners</td>\n",
       "      <td>Not-in-family</td>\n",
       "      <td>White</td>\n",
       "      <td>Male</td>\n",
       "      <td>0</td>\n",
       "      <td>0</td>\n",
       "      <td>40</td>\n",
       "      <td>United-States</td>\n",
       "      <td>&lt;=50K</td>\n",
       "    </tr>\n",
       "    <tr>\n",
       "      <th>2</th>\n",
       "      <td>53</td>\n",
       "      <td>Private</td>\n",
       "      <td>234721</td>\n",
       "      <td>11th</td>\n",
       "      <td>7</td>\n",
       "      <td>Married-civ-spouse</td>\n",
       "      <td>Handlers-cleaners</td>\n",
       "      <td>Husband</td>\n",
       "      <td>Black</td>\n",
       "      <td>Male</td>\n",
       "      <td>0</td>\n",
       "      <td>0</td>\n",
       "      <td>40</td>\n",
       "      <td>United-States</td>\n",
       "      <td>&lt;=50K</td>\n",
       "    </tr>\n",
       "    <tr>\n",
       "      <th>3</th>\n",
       "      <td>28</td>\n",
       "      <td>Private</td>\n",
       "      <td>338409</td>\n",
       "      <td>Bachelors</td>\n",
       "      <td>13</td>\n",
       "      <td>Married-civ-spouse</td>\n",
       "      <td>Prof-specialty</td>\n",
       "      <td>Wife</td>\n",
       "      <td>Black</td>\n",
       "      <td>Female</td>\n",
       "      <td>0</td>\n",
       "      <td>0</td>\n",
       "      <td>40</td>\n",
       "      <td>Cuba</td>\n",
       "      <td>&lt;=50K</td>\n",
       "    </tr>\n",
       "    <tr>\n",
       "      <th>4</th>\n",
       "      <td>37</td>\n",
       "      <td>Private</td>\n",
       "      <td>284582</td>\n",
       "      <td>Masters</td>\n",
       "      <td>14</td>\n",
       "      <td>Married-civ-spouse</td>\n",
       "      <td>Exec-managerial</td>\n",
       "      <td>Wife</td>\n",
       "      <td>White</td>\n",
       "      <td>Female</td>\n",
       "      <td>0</td>\n",
       "      <td>0</td>\n",
       "      <td>40</td>\n",
       "      <td>United-States</td>\n",
       "      <td>&lt;=50K</td>\n",
       "    </tr>\n",
       "  </tbody>\n",
       "</table>\n",
       "</div>"
      ],
      "text/plain": [
       "   39          State-gov   77516   Bachelors   13        Never-married  \\\n",
       "0  50   Self-emp-not-inc   83311   Bachelors   13   Married-civ-spouse   \n",
       "1  38            Private  215646     HS-grad    9             Divorced   \n",
       "2  53            Private  234721        11th    7   Married-civ-spouse   \n",
       "3  28            Private  338409   Bachelors   13   Married-civ-spouse   \n",
       "4  37            Private  284582     Masters   14   Married-civ-spouse   \n",
       "\n",
       "         Adm-clerical   Not-in-family   White     Male   2174   0   40  \\\n",
       "0     Exec-managerial         Husband   White     Male      0   0   13   \n",
       "1   Handlers-cleaners   Not-in-family   White     Male      0   0   40   \n",
       "2   Handlers-cleaners         Husband   Black     Male      0   0   40   \n",
       "3      Prof-specialty            Wife   Black   Female      0   0   40   \n",
       "4     Exec-managerial            Wife   White   Female      0   0   40   \n",
       "\n",
       "    United-States   <=50K  \n",
       "0   United-States   <=50K  \n",
       "1   United-States   <=50K  \n",
       "2   United-States   <=50K  \n",
       "3            Cuba   <=50K  \n",
       "4   United-States   <=50K  "
      ]
     },
     "execution_count": 23,
     "metadata": {},
     "output_type": "execute_result"
    }
   ],
   "source": [
    "df= pd.read_csv(\"adults.csv\")\n",
    "df.head()"
   ]
  },
  {
   "cell_type": "code",
   "execution_count": 95,
   "id": "69b856f5-1c21-4e83-a9b9-583749d5cb5a",
   "metadata": {},
   "outputs": [
    {
     "name": "stdout",
     "output_type": "stream",
     "text": [
      "Index(['39', 'State-gov', '77516', 'Bachelors', '13', 'Never-married',\n",
      "       'Adm-clerical', 'Not-in-family', 'White', 'Male', '2174', '0', '40',\n",
      "       'United-States', '<=50K'],\n",
      "      dtype='object')\n"
     ]
    }
   ],
   "source": [
    "print(df.columns)\n",
    "df.columns = df.columns.str.strip() \n"
   ]
  },
  {
   "cell_type": "code",
   "execution_count": 97,
   "id": "7ab22d52-5937-421c-84d9-ad5b0fd08daa",
   "metadata": {},
   "outputs": [
    {
     "name": "stdout",
     "output_type": "stream",
     "text": [
      "       39   State-gov   77516      Bachelors  13        Never-married  \\\n",
      "24639  20     Private  385077           12th   8        Never-married   \n",
      "5514   21   State-gov  140764   Some-college  10        Never-married   \n",
      "19777  64     Private  312242   Some-college  10              Widowed   \n",
      "10781  26     Private  227489        HS-grad   9        Never-married   \n",
      "32239  21     Private  180190      Assoc-voc  11   Married-civ-spouse   \n",
      "...    ..         ...     ...            ...  ..                  ...   \n",
      "29802  35     Private  109351      Bachelors  13        Never-married   \n",
      "5390   31     Private  101562        HS-grad   9   Married-civ-spouse   \n",
      "860    43     Private  191547        HS-grad   9   Married-civ-spouse   \n",
      "15795  21     Private  223352        HS-grad   9        Never-married   \n",
      "23654  27   Local-gov  236472      Bachelors  13             Divorced   \n",
      "\n",
      "             Adm-clerical    Not-in-family   White     Male  2174  0  40  \\\n",
      "24639   Machine-op-inspct        Own-child   White     Male     0  0  40   \n",
      "5514         Adm-clerical        Own-child   White   Female     0  0  12   \n",
      "19777     Exec-managerial    Not-in-family   White   Female     0  0   3   \n",
      "10781        Tech-support   Other-relative   Black     Male     0  0  40   \n",
      "32239     Farming-fishing          Husband   White     Male     0  0  46   \n",
      "...                   ...              ...     ...      ...   ... ..  ..   \n",
      "29802               Sales    Not-in-family   White   Female  8614  0  45   \n",
      "5390    Machine-op-inspct             Wife   White   Female     0  0  55   \n",
      "860       Farming-fishing          Husband   White     Male     0  0  40   \n",
      "15795       Other-service    Not-in-family   White   Female  1055  0  30   \n",
      "23654      Prof-specialty   Other-relative   White   Female     0  0  40   \n",
      "\n",
      "        United-States  \n",
      "24639   United-States  \n",
      "5514    United-States  \n",
      "19777   United-States  \n",
      "10781               ?  \n",
      "32239   United-States  \n",
      "...               ...  \n",
      "29802   United-States  \n",
      "5390    United-States  \n",
      "860            Mexico  \n",
      "15795   United-States  \n",
      "23654   United-States  \n",
      "\n",
      "[26048 rows x 14 columns]\n"
     ]
    }
   ],
   "source": [
    "print(X_train)"
   ]
  },
  {
   "cell_type": "code",
   "execution_count": 96,
   "id": "5c2c1b77-81df-46d8-a6a4-6ae705a63ca0",
   "metadata": {},
   "outputs": [],
   "source": [
    "X = df.drop(columns=['<=50K']) \n",
    "y = df['<=50K']\n",
    "\n",
    "X_train, X_test, y_train, y_test = train_test_split(X, y, test_size=0.2, random_state=42)"
   ]
  },
  {
   "cell_type": "code",
   "execution_count": 98,
   "id": "20825519-f9b2-40ae-9d34-1705af6a0ce9",
   "metadata": {},
   "outputs": [
    {
     "name": "stdout",
     "output_type": "stream",
     "text": [
      "       39     State-gov   77516      Bachelors  13        Never-married  \\\n",
      "14160  38       Private  680390        HS-grad   9             Divorced   \n",
      "27047  45     State-gov   50567        HS-grad   9   Married-civ-spouse   \n",
      "28867  29       Private  185908      Bachelors  13   Married-civ-spouse   \n",
      "5667   51       Private  306108      Doctorate  16        Never-married   \n",
      "7827   46       Private  124071        Masters  14              Widowed   \n",
      "...    ..           ...     ...            ...  ..                  ...   \n",
      "13307  45       Private   88500   Some-college  10   Married-civ-spouse   \n",
      "1338   38     State-gov   34180   Some-college  10   Married-civ-spouse   \n",
      "24534  17       Private  193748           11th   7        Never-married   \n",
      "18080  31       Private  192900   Some-college  10        Never-married   \n",
      "10354  47   Federal-gov  227244      Bachelors  13   Married-civ-spouse   \n",
      "\n",
      "             Adm-clerical   Not-in-family   White     Male  2174  0  40  \\\n",
      "14160        Adm-clerical       Unmarried   White   Female     0  0  20   \n",
      "27047     Exec-managerial            Wife   White   Female     0  0  40   \n",
      "28867     Exec-managerial         Husband   Black     Male     0  0  55   \n",
      "5667       Prof-specialty   Not-in-family   White     Male     0  0  40   \n",
      "7827       Prof-specialty   Not-in-family   White   Female     0  0  44   \n",
      "...                   ...             ...     ...      ...   ... ..  ..   \n",
      "13307   Machine-op-inspct         Husband   White     Male     0  0  44   \n",
      "1338      Exec-managerial         Husband   White     Male     0  0  40   \n",
      "24534               Sales       Own-child   White     Male     0  0  15   \n",
      "18080       Other-service   Not-in-family   White     Male     0  0  40   \n",
      "10354     Protective-serv         Husband   Black     Male     0  0  50   \n",
      "\n",
      "        United-States  \n",
      "14160   United-States  \n",
      "27047   United-States  \n",
      "28867   United-States  \n",
      "5667    United-States  \n",
      "7827    United-States  \n",
      "...               ...  \n",
      "13307   United-States  \n",
      "1338    United-States  \n",
      "24534   United-States  \n",
      "18080   United-States  \n",
      "10354   United-States  \n",
      "\n",
      "[6512 rows x 14 columns]\n"
     ]
    }
   ],
   "source": [
    "print(X_test)"
   ]
  },
  {
   "cell_type": "code",
   "execution_count": 99,
   "id": "e5674e86-cfec-43a0-9577-de0f361cc50a",
   "metadata": {},
   "outputs": [
    {
     "name": "stdout",
     "output_type": "stream",
     "text": [
      "Accuracy: 0.7962223587223587\n",
      "Classification Report:\n",
      "               precision    recall  f1-score   support\n",
      "\n",
      "           0       0.81      0.95      0.88      4912\n",
      "           1       0.68      0.32      0.44      1600\n",
      "\n",
      "    accuracy                           0.80      6512\n",
      "   macro avg       0.75      0.64      0.66      6512\n",
      "weighted avg       0.78      0.80      0.77      6512\n",
      "\n"
     ]
    }
   ],
   "source": [
    "from sklearn.preprocessing import LabelEncoder\n",
    "le = LabelEncoder()\n",
    "y = le.fit_transform(y) \n",
    "X = pd.get_dummies(X, drop_first=True)\n",
    "X_train, X_test, y_train, y_test = train_test_split(X, y, test_size=0.2, random_state=42)\n",
    "model = GaussianNB()\n",
    "model.fit(X_train, y_train)\n",
    "y_pred = model.predict(X_test)\n",
    "\n",
    "print(\"Accuracy:\", accuracy_score(y_test, y_pred))\n",
    "print(\"Classification Report:\\n\", classification_report(y_test, y_pred))\n"
   ]
  },
  {
   "cell_type": "code",
   "execution_count": 100,
   "id": "69c6de82-2e29-4e36-9f40-866d57d729da",
   "metadata": {},
   "outputs": [
    {
     "name": "stdout",
     "output_type": "stream",
     "text": [
      "Probability estimates for each sample:\n",
      " [[9.98659019e-01 1.34098144e-03]\n",
      " [9.85852640e-01 1.41473598e-02]\n",
      " [9.83828358e-01 1.61716422e-02]\n",
      " ...\n",
      " [9.99790507e-01 2.09492627e-04]\n",
      " [9.93384714e-01 6.61528650e-03]\n",
      " [9.62897249e-01 3.71027510e-02]]\n"
     ]
    }
   ],
   "source": [
    "probs = model.predict_proba(X_test)\n",
    "print(\"Probability estimates for each sample:\\n\", probs)"
   ]
  },
  {
   "cell_type": "code",
   "execution_count": 118,
   "id": "4773b69a-32e9-48b2-86b9-d0a80df96e00",
   "metadata": {},
   "outputs": [],
   "source": [
    "\n",
    "loss_matrix = np.array([[0, 1], [2, 0]])"
   ]
  },
  {
   "cell_type": "code",
   "execution_count": 111,
   "id": "0eb4429e-24e7-4d16-a98c-a88e4becbe27",
   "metadata": {},
   "outputs": [],
   "source": [
    "expected_risk = np.dot(probs, loss_matrix.T)"
   ]
  },
  {
   "cell_type": "code",
   "execution_count": 112,
   "id": "5166430f-91c9-4d29-8435-488675f388c9",
   "metadata": {},
   "outputs": [],
   "source": [
    "y_pred_risk_minimized = np.argmin(expected_risk, axis=1)"
   ]
  },
  {
   "cell_type": "code",
   "execution_count": 113,
   "id": "a816c034-eaa1-475e-9fc5-cba0006ffcc7",
   "metadata": {},
   "outputs": [],
   "source": [
    "accuracy = accuracy_score(y_test, y_pred_risk_minimized)\n",
    "precision = precision_score(y_test, y_pred_risk_minimized)\n",
    "recall = recall_score(y_test, y_pred_risk_minimized)\n",
    "f1 = f1_score(y_test, y_pred_risk_minimized)"
   ]
  },
  {
   "cell_type": "code",
   "execution_count": 114,
   "id": "522efe94-9b0f-4d80-aec8-b6a63f9f73b5",
   "metadata": {},
   "outputs": [
    {
     "name": "stdout",
     "output_type": "stream",
     "text": [
      "\n",
      " Classification Report:\n",
      "              precision    recall  f1-score   support\n",
      "\n",
      "           0       0.81      0.95      0.88      4912\n",
      "           1       0.69      0.32      0.43      1600\n",
      "\n",
      "    accuracy                           0.80      6512\n",
      "   macro avg       0.75      0.64      0.66      6512\n",
      "weighted avg       0.78      0.80      0.77      6512\n",
      "\n"
     ]
    }
   ],
   "source": [
    "print(\"\\n Classification Report:\")\n",
    "print(classification_report(y_test, y_pred_risk_minimized))"
   ]
  },
  {
   "cell_type": "code",
   "execution_count": 115,
   "id": "75203a1e-8072-489c-94ef-6b64070843b4",
   "metadata": {},
   "outputs": [],
   "source": [
    "cm = confusion_matrix(y_test, y_pred_risk_minimized)"
   ]
  },
  {
   "cell_type": "code",
   "execution_count": 116,
   "id": "7f0b2d86-4475-46a2-947d-02eff2d6044d",
   "metadata": {},
   "outputs": [
    {
     "data": {
      "image/png": "[encoded data removed]",
      "text/plain": [
       "<Figure size 500x400 with 2 Axes>"
      ]
     },
     "metadata": {},
     "output_type": "display_data"
    }
   ],
   "source": [
    " plt.figure(figsize=(5, 4))\n",
    " sns.heatmap(cm, annot=True, fmt=\"d\", cmap=\"Blues\", xticklabels=[0, 1],yticklabels=[0, 1])\n",
    " plt.xlabel(\"Predicted Label\")\n",
    " plt.ylabel(\"True Label\")\n",
    " plt.title(\"Confusion Matrix\")\n",
    " plt.show()"
   ]
  },
  {
   "cell_type": "code",
   "execution_count": null,
   "id": "619e1ddd-11e9-407c-86ff-3302d0d0c800",
   "metadata": {},
   "outputs": [],
   "source": []
  }
 ],
 "metadata": {
  "kernelspec": {
   "display_name": "tulsi",
   "language": "python",
   "name": "tulsi"
  },
  "language_info": {
   "codemirror_mode": {
    "name": "ipython",
    "version": 3
   },
   "file_extension": ".py",
   "mimetype": "text/x-python",
   "name": "python",
   "nbconvert_exporter": "python",
   "pygments_lexer": "ipython3",
   "version": "3.9.21"
  }
 },
 "nbformat": 4,
 "nbformat_minor": 5
}
