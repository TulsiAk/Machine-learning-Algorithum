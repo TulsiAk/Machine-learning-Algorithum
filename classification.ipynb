{
 "cells": [
  {
   "cell_type": "code",
   "execution_count": 178,
   "id": "9f9f613d-0f97-4218-ae7d-6f605332e46a",
   "metadata": {},
   "outputs": [],
   "source": [
    "import numpy as np\n",
    "import matplotlib.pyplot as plt\n",
    "import pandas as pd"
   ]
  },
  {
   "cell_type": "code",
   "execution_count": 179,
   "id": "c8498be7-da48-4cef-a860-eaf38151ac7a",
   "metadata": {},
   "outputs": [
    {
     "data": {
      "text/html": [
       "<div>\n",
       "<style scoped>\n",
       "    .dataframe tbody tr th:only-of-type {\n",
       "        vertical-align: middle;\n",
       "    }\n",
       "\n",
       "    .dataframe tbody tr th {\n",
       "        vertical-align: top;\n",
       "    }\n",
       "\n",
       "    .dataframe thead th {\n",
       "        text-align: right;\n",
       "    }\n",
       "</style>\n",
       "<table border=\"1\" class=\"dataframe\">\n",
       "  <thead>\n",
       "    <tr style=\"text-align: right;\">\n",
       "      <th></th>\n",
       "      <th>tumour_size</th>\n",
       "      <th>malingnent</th>\n",
       "    </tr>\n",
       "  </thead>\n",
       "  <tbody>\n",
       "    <tr>\n",
       "      <th>0</th>\n",
       "      <td>1</td>\n",
       "      <td>0</td>\n",
       "    </tr>\n",
       "    <tr>\n",
       "      <th>1</th>\n",
       "      <td>2</td>\n",
       "      <td>0</td>\n",
       "    </tr>\n",
       "    <tr>\n",
       "      <th>2</th>\n",
       "      <td>3</td>\n",
       "      <td>0</td>\n",
       "    </tr>\n",
       "    <tr>\n",
       "      <th>3</th>\n",
       "      <td>4</td>\n",
       "      <td>0</td>\n",
       "    </tr>\n",
       "    <tr>\n",
       "      <th>4</th>\n",
       "      <td>5</td>\n",
       "      <td>1</td>\n",
       "    </tr>\n",
       "  </tbody>\n",
       "</table>\n",
       "</div>"
      ],
      "text/plain": [
       "   tumour_size  malingnent\n",
       "0            1           0\n",
       "1            2           0\n",
       "2            3           0\n",
       "3            4           0\n",
       "4            5           1"
      ]
     },
     "execution_count": 179,
     "metadata": {},
     "output_type": "execute_result"
    }
   ],
   "source": [
    "data = {\n",
    "    \"tumour_size\": [1, 2, 3, 4, 5, 6, 7, 8, 9, 10],\n",
    "    \"malingnent\": [0, 0, 0, 0, 1, 1, 1, 1, 1, 1]\n",
    "}\n",
    "\n",
    "df = pd.DataFrame(data)\n",
    "df.to_csv(\"tumour.csv\", index=False)\n",
    "df.head()"
   ]
  },
  {
   "cell_type": "code",
   "execution_count": 180,
   "id": "5118b24b-ac9e-4e90-82d1-824ae44e2ce9",
   "metadata": {},
   "outputs": [
    {
     "data": {
      "image/png": "[encoded data removed]",
      "text/plain": [
       "<Figure size 640x480 with 1 Axes>"
      ]
     },
     "metadata": {},
     "output_type": "display_data"
    }
   ],
   "source": [
    "X=df[\"tumour_size\"].values\n",
    "Y= df[\"malingnent\"].values\n",
    "plt.scatter(X,Y)\n",
    "plt.xlabel(\"Size of tumor\")\n",
    "plt.ylabel(\"Malingnent\")\n",
    "plt.title(\"Toumor is Malingnent or not\")\n",
    "plt.show()"
   ]
  },
  {
   "cell_type": "code",
   "execution_count": 181,
   "id": "8354a69e-7e99-4f89-a78a-b19c75710cd4",
   "metadata": {},
   "outputs": [
    {
     "name": "stdout",
     "output_type": "stream",
     "text": [
      "Training set size: 8\n",
      "Testing set size: 2\n"
     ]
    }
   ],
   "source": [
    "X = df[\"tumour_size\"].values.reshape(-1, 1)\n",
    "y = df[\"malingnent\"].values\n",
    "X = np.c_[np.ones(X.shape[0]), X]\n",
    "X_train, X_test = X[:8], X[8:]\n",
    "Y_train, Y_test = Y[:8], Y[8:]\n",
    "print(\"Training set size:\", len(X_train))\n",
    "print(\"Testing set size:\", len(X_test))"
   ]
  },
  {
   "cell_type": "code",
   "execution_count": 182,
   "id": "4ae63537-9ed1-4e21-ab9d-3a2f9d6f7e42",
   "metadata": {},
   "outputs": [
    {
     "name": "stdout",
     "output_type": "stream",
     "text": [
      "0.5\n"
     ]
    }
   ],
   "source": [
    "def sigmoid(z):\n",
    "    return 1 / (1 + np.exp(-z))\n",
    "print(sigmoid(0))"
   ]
  },
  {
   "cell_type": "code",
   "execution_count": 183,
   "id": "469a2e72-5acf-4722-995f-67ead1f3a68e",
   "metadata": {},
   "outputs": [
    {
     "name": "stdout",
     "output_type": "stream",
     "text": [
      "Cost: 0.6931471805599453\n"
     ]
    }
   ],
   "source": [
    "def compute_cost(X, y, weights):\n",
    "    m = len(y)\n",
    "    z = np.dot(X, weights)  \n",
    "    predictions = sigmoid(z)\n",
    "    cost = (-1/m) * np.sum(y * np.log(predictions) + (1 - y) * np.log(1 - predictions))\n",
    "    return cost\n",
    "weights = np.zeros(X_train.shape[1])\n",
    "cost = compute_cost(X_train, Y_train, weights)\n",
    "print(\"Cost:\",cost)"
   ]
  },
  {
   "cell_type": "code",
   "execution_count": 184,
   "id": "65f10cb7-f6ca-4430-b915-b41753b4021f",
   "metadata": {},
   "outputs": [
    {
     "name": "stdout",
     "output_type": "stream",
     "text": [
      "Iteration 0, Cost: 0.5247\n",
      "Iteration 100, Cost: 0.3500\n",
      "Iteration 200, Cost: 0.2712\n",
      "Iteration 300, Cost: 0.2275\n",
      "Iteration 400, Cost: 0.1997\n",
      "Iteration 500, Cost: 0.1803\n",
      "Iteration 600, Cost: 0.1658\n",
      "Iteration 700, Cost: 0.1546\n",
      "Iteration 800, Cost: 0.1455\n",
      "Iteration 900, Cost: 0.1379\n",
      "Final Weights: [-5.23006261  1.22918733]\n"
     ]
    }
   ],
   "source": [
    "def gradient_descent(X, y, weights, learning_rate, iterations):\n",
    "    m = len(y)\n",
    "    \n",
    "    for i in range(iterations):\n",
    "        z = np.dot(X, weights)\n",
    "        predictions = sigmoid(z)\n",
    "        gradient = np.dot(X.T, (predictions - y)) / m\n",
    "        weights -= learning_rate * gradient\n",
    "        if i % 100 == 0:\n",
    "            cost = compute_cost(X, y, weights)\n",
    "            print(f\"Iteration {i}, Cost: {cost:.4f}\")\n",
    "\n",
    "    return weights\n",
    "learning_rate = 0.1\n",
    "iterations = 1000\n",
    "weights = gradient_descent(X, y, np.zeros(X.shape[1]), learning_rate, iterations)\n",
    "\n",
    "print(\"Final Weights:\", weights)\n"
   ]
  },
  {
   "cell_type": "code",
   "execution_count": 190,
   "id": "418a2a75-2bb3-476e-b28a-32b13b77f858",
   "metadata": {},
   "outputs": [
    {
     "name": "stdout",
     "output_type": "stream",
     "text": [
      "[1 1 0 ... 0 0 0]\n",
      "[1 1]\n"
     ]
    }
   ],
   "source": [
    "def predict(X, weights):\n",
    "    probabilities = sigmoid(np.dot(X, weights))\n",
    "    return (probabilities >= 0.5).astype(int)\n",
    "y_pred = predict(X_test, weights)\n",
    "print(y_test)\n",
    "print(y_pred)"
   ]
  },
  {
   "cell_type": "code",
   "execution_count": 195,
   "id": "6598514c-10ff-49f4-807f-910448920c2a",
   "metadata": {},
   "outputs": [
    {
     "ename": "ValueError",
     "evalue": "x and y must be the same size",
     "output_type": "error",
     "traceback": [
      "\u001b[1;31m---------------------------------------------------------------------------\u001b[0m",
      "\u001b[1;31mValueError\u001b[0m                                Traceback (most recent call last)",
      "Cell \u001b[1;32mIn[195], line 5\u001b[0m\n\u001b[0;32m      2\u001b[0m X_range_bias \u001b[38;5;241m=\u001b[39m np\u001b[38;5;241m.\u001b[39mc_[np\u001b[38;5;241m.\u001b[39mones(X_range\u001b[38;5;241m.\u001b[39mshape[\u001b[38;5;241m0\u001b[39m]), X_range]\n\u001b[0;32m      3\u001b[0m y_prob \u001b[38;5;241m=\u001b[39m sigmoid(np\u001b[38;5;241m.\u001b[39mdot(X_range_bias, weights))\n\u001b[1;32m----> 5\u001b[0m \u001b[43mplt\u001b[49m\u001b[38;5;241;43m.\u001b[39;49m\u001b[43mscatter\u001b[49m\u001b[43m(\u001b[49m\u001b[43mX_train\u001b[49m\u001b[43m[\u001b[49m\u001b[43m:\u001b[49m\u001b[38;5;241;43m8\u001b[39;49m\u001b[43m,\u001b[49m\u001b[43m \u001b[49m\u001b[38;5;241;43m1\u001b[39;49m\u001b[43m]\u001b[49m\u001b[43m,\u001b[49m\u001b[43m \u001b[49m\u001b[43my_train\u001b[49m\u001b[43m)\u001b[49m\n\u001b[0;32m      6\u001b[0m plt\u001b[38;5;241m.\u001b[39mscatter(X_test[:\u001b[38;5;241m8\u001b[39m, \u001b[38;5;241m1\u001b[39m], y_test)\n\u001b[0;32m      8\u001b[0m plt\u001b[38;5;241m.\u001b[39mplot(X_range, y_prob, color\u001b[38;5;241m=\u001b[39m\u001b[38;5;124m'\u001b[39m\u001b[38;5;124mred\u001b[39m\u001b[38;5;124m'\u001b[39m, label\u001b[38;5;241m=\u001b[39m\u001b[38;5;124m\"\u001b[39m\u001b[38;5;124mLogistic Regression Curve\u001b[39m\u001b[38;5;124m\"\u001b[39m)\n",
      "File \u001b[1;32m~\\anaconda3\\envs\\tulsi\\lib\\site-packages\\matplotlib\\pyplot.py:3903\u001b[0m, in \u001b[0;36mscatter\u001b[1;34m(x, y, s, c, marker, cmap, norm, vmin, vmax, alpha, linewidths, edgecolors, plotnonfinite, data, **kwargs)\u001b[0m\n\u001b[0;32m   3884\u001b[0m \u001b[38;5;129m@_copy_docstring_and_deprecators\u001b[39m(Axes\u001b[38;5;241m.\u001b[39mscatter)\n\u001b[0;32m   3885\u001b[0m \u001b[38;5;28;01mdef\u001b[39;00m \u001b[38;5;21mscatter\u001b[39m(\n\u001b[0;32m   3886\u001b[0m     x: \u001b[38;5;28mfloat\u001b[39m \u001b[38;5;241m|\u001b[39m ArrayLike,\n\u001b[1;32m   (...)\u001b[0m\n\u001b[0;32m   3901\u001b[0m     \u001b[38;5;241m*\u001b[39m\u001b[38;5;241m*\u001b[39mkwargs,\n\u001b[0;32m   3902\u001b[0m ) \u001b[38;5;241m-\u001b[39m\u001b[38;5;241m>\u001b[39m PathCollection:\n\u001b[1;32m-> 3903\u001b[0m     __ret \u001b[38;5;241m=\u001b[39m gca()\u001b[38;5;241m.\u001b[39mscatter(\n\u001b[0;32m   3904\u001b[0m         x,\n\u001b[0;32m   3905\u001b[0m         y,\n\u001b[0;32m   3906\u001b[0m         s\u001b[38;5;241m=\u001b[39ms,\n\u001b[0;32m   3907\u001b[0m         c\u001b[38;5;241m=\u001b[39mc,\n\u001b[0;32m   3908\u001b[0m         marker\u001b[38;5;241m=\u001b[39mmarker,\n\u001b[0;32m   3909\u001b[0m         cmap\u001b[38;5;241m=\u001b[39mcmap,\n\u001b[0;32m   3910\u001b[0m         norm\u001b[38;5;241m=\u001b[39mnorm,\n\u001b[0;32m   3911\u001b[0m         vmin\u001b[38;5;241m=\u001b[39mvmin,\n\u001b[0;32m   3912\u001b[0m         vmax\u001b[38;5;241m=\u001b[39mvmax,\n\u001b[0;32m   3913\u001b[0m         alpha\u001b[38;5;241m=\u001b[39malpha,\n\u001b[0;32m   3914\u001b[0m         linewidths\u001b[38;5;241m=\u001b[39mlinewidths,\n\u001b[0;32m   3915\u001b[0m         edgecolors\u001b[38;5;241m=\u001b[39medgecolors,\n\u001b[0;32m   3916\u001b[0m         plotnonfinite\u001b[38;5;241m=\u001b[39mplotnonfinite,\n\u001b[0;32m   3917\u001b[0m         \u001b[38;5;241m*\u001b[39m\u001b[38;5;241m*\u001b[39m({\u001b[38;5;124m\"\u001b[39m\u001b[38;5;124mdata\u001b[39m\u001b[38;5;124m\"\u001b[39m: data} \u001b[38;5;28;01mif\u001b[39;00m data \u001b[38;5;129;01mis\u001b[39;00m \u001b[38;5;129;01mnot\u001b[39;00m \u001b[38;5;28;01mNone\u001b[39;00m \u001b[38;5;28;01melse\u001b[39;00m {}),\n\u001b[0;32m   3918\u001b[0m         \u001b[38;5;241m*\u001b[39m\u001b[38;5;241m*\u001b[39mkwargs,\n\u001b[0;32m   3919\u001b[0m     )\n\u001b[0;32m   3920\u001b[0m     sci(__ret)\n\u001b[0;32m   3921\u001b[0m     \u001b[38;5;28;01mreturn\u001b[39;00m __ret\n",
      "File \u001b[1;32m~\\anaconda3\\envs\\tulsi\\lib\\site-packages\\matplotlib\\__init__.py:1473\u001b[0m, in \u001b[0;36m_preprocess_data.<locals>.inner\u001b[1;34m(ax, data, *args, **kwargs)\u001b[0m\n\u001b[0;32m   1470\u001b[0m \u001b[38;5;129m@functools\u001b[39m\u001b[38;5;241m.\u001b[39mwraps(func)\n\u001b[0;32m   1471\u001b[0m \u001b[38;5;28;01mdef\u001b[39;00m \u001b[38;5;21minner\u001b[39m(ax, \u001b[38;5;241m*\u001b[39margs, data\u001b[38;5;241m=\u001b[39m\u001b[38;5;28;01mNone\u001b[39;00m, \u001b[38;5;241m*\u001b[39m\u001b[38;5;241m*\u001b[39mkwargs):\n\u001b[0;32m   1472\u001b[0m     \u001b[38;5;28;01mif\u001b[39;00m data \u001b[38;5;129;01mis\u001b[39;00m \u001b[38;5;28;01mNone\u001b[39;00m:\n\u001b[1;32m-> 1473\u001b[0m         \u001b[38;5;28;01mreturn\u001b[39;00m func(\n\u001b[0;32m   1474\u001b[0m             ax,\n\u001b[0;32m   1475\u001b[0m             \u001b[38;5;241m*\u001b[39m\u001b[38;5;28mmap\u001b[39m(sanitize_sequence, args),\n\u001b[0;32m   1476\u001b[0m             \u001b[38;5;241m*\u001b[39m\u001b[38;5;241m*\u001b[39m{k: sanitize_sequence(v) \u001b[38;5;28;01mfor\u001b[39;00m k, v \u001b[38;5;129;01min\u001b[39;00m kwargs\u001b[38;5;241m.\u001b[39mitems()})\n\u001b[0;32m   1478\u001b[0m     bound \u001b[38;5;241m=\u001b[39m new_sig\u001b[38;5;241m.\u001b[39mbind(ax, \u001b[38;5;241m*\u001b[39margs, \u001b[38;5;241m*\u001b[39m\u001b[38;5;241m*\u001b[39mkwargs)\n\u001b[0;32m   1479\u001b[0m     auto_label \u001b[38;5;241m=\u001b[39m (bound\u001b[38;5;241m.\u001b[39marguments\u001b[38;5;241m.\u001b[39mget(label_namer)\n\u001b[0;32m   1480\u001b[0m                   \u001b[38;5;129;01mor\u001b[39;00m bound\u001b[38;5;241m.\u001b[39mkwargs\u001b[38;5;241m.\u001b[39mget(label_namer))\n",
      "File \u001b[1;32m~\\anaconda3\\envs\\tulsi\\lib\\site-packages\\matplotlib\\axes\\_axes.py:4787\u001b[0m, in \u001b[0;36mAxes.scatter\u001b[1;34m(self, x, y, s, c, marker, cmap, norm, vmin, vmax, alpha, linewidths, edgecolors, plotnonfinite, **kwargs)\u001b[0m\n\u001b[0;32m   4785\u001b[0m y \u001b[38;5;241m=\u001b[39m np\u001b[38;5;241m.\u001b[39mma\u001b[38;5;241m.\u001b[39mravel(y)\n\u001b[0;32m   4786\u001b[0m \u001b[38;5;28;01mif\u001b[39;00m x\u001b[38;5;241m.\u001b[39msize \u001b[38;5;241m!=\u001b[39m y\u001b[38;5;241m.\u001b[39msize:\n\u001b[1;32m-> 4787\u001b[0m     \u001b[38;5;28;01mraise\u001b[39;00m \u001b[38;5;167;01mValueError\u001b[39;00m(\u001b[38;5;124m\"\u001b[39m\u001b[38;5;124mx and y must be the same size\u001b[39m\u001b[38;5;124m\"\u001b[39m)\n\u001b[0;32m   4789\u001b[0m \u001b[38;5;28;01mif\u001b[39;00m s \u001b[38;5;129;01mis\u001b[39;00m \u001b[38;5;28;01mNone\u001b[39;00m:\n\u001b[0;32m   4790\u001b[0m     s \u001b[38;5;241m=\u001b[39m (\u001b[38;5;241m20\u001b[39m \u001b[38;5;28;01mif\u001b[39;00m mpl\u001b[38;5;241m.\u001b[39mrcParams[\u001b[38;5;124m'\u001b[39m\u001b[38;5;124m_internal.classic_mode\u001b[39m\u001b[38;5;124m'\u001b[39m] \u001b[38;5;28;01melse\u001b[39;00m\n\u001b[0;32m   4791\u001b[0m          mpl\u001b[38;5;241m.\u001b[39mrcParams[\u001b[38;5;124m'\u001b[39m\u001b[38;5;124mlines.markersize\u001b[39m\u001b[38;5;124m'\u001b[39m] \u001b[38;5;241m*\u001b[39m\u001b[38;5;241m*\u001b[39m \u001b[38;5;241m2.0\u001b[39m)\n",
      "\u001b[1;31mValueError\u001b[0m: x and y must be the same size"
     ]
    },
    {
     "data": {
      "image/png": "[encoded data removed]",
      "text/plain": [
       "<Figure size 640x480 with 1 Axes>"
      ]
     },
     "metadata": {},
     "output_type": "display_data"
    }
   ],
   "source": [
    "X_range = np.linspace(0, 12, 100).reshape(-1, 1)\n",
    "X_range_bias = np.c_[np.ones(X_range.shape[0]), X_range]\n",
    "y_prob = sigmoid(np.dot(X_range_bias, weights))\n",
    "\n",
    "plt.scatter(X_train[:8, 1], y_train)\n",
    "plt.scatter(X_test[:8, 1], y_test)\n",
    "\n",
    "plt.plot(X_range, y_prob, color='red', label=\"Logistic Regression Curve\")\n",
    "\n",
    "plt.xlabel(\"size\")\n",
    "plt.ylabel(\"malingnent\")\n",
    "plt.title(\"malingnent or not\")\n",
    "\n",
    "plt.legend()\n",
    "plt.show()\n"
   ]
  },
  {
   "cell_type": "code",
   "execution_count": null,
   "id": "76b226e7-63f4-4aed-a18c-1ace2288b6af",
   "metadata": {},
   "outputs": [],
   "source": [
    "df=pd.read_csv('class.csv')\n",
    "df.head()"
   ]
  },
  {
   "cell_type": "code",
   "execution_count": null,
   "id": "05d659d7-7cb4-4ed7-b509-a1643b8c7db8",
   "metadata": {},
   "outputs": [],
   "source": [
    "df=pd.read_csv('class.csv')\n",
    "X = df[\"F1\"].values \n",
    "X1 = df[\"F2\"].values\n",
    "y = df[\"Class\"].values\n",
    "print(len(X))\n",
    "print( len(X1))"
   ]
  },
  {
   "cell_type": "code",
   "execution_count": null,
   "id": "09165de3-3ec5-4ce5-8013-560eb3942fda",
   "metadata": {},
   "outputs": [],
   "source": [
    "plt.scatter(X,X1,y)\n"
   ]
  },
  {
   "cell_type": "code",
   "execution_count": null,
   "id": "0b6a1182-4248-4bf7-b4ae-49848d8c6209",
   "metadata": {},
   "outputs": [],
   "source": [
    "plt.scatter(X,X1)"
   ]
  },
  {
   "cell_type": "code",
   "execution_count": null,
   "id": "8458d6ca-f6a5-4967-acf1-142bccbf3da7",
   "metadata": {},
   "outputs": [],
   "source": [
    "x = df[\"F1\"].values.reshape(-1, 1)\n",
    "y = df[\"F1\"].values.reshape(-1, 1)\n",
    "z = df[\"Class\"].values\n",
    "x = np.c_[np.ones(x.shape[0]), x]\n",
    "y = np.c_[np.ones(y.shape[0]), y]\n",
    "x_train = x[:2000]\n",
    "y_train= y[:2000]\n",
    "z_train= z[:2000]\n",
    "print(len(x_train))\n",
    "print(len(y_train))\n",
    "print(len(z_train))"
   ]
  },
  {
   "cell_type": "code",
   "execution_count": null,
   "id": "7388aecc-a154-42e2-8331-3dd40268d6f8",
   "metadata": {},
   "outputs": [],
   "source": [
    "def sigmoid(z):\n",
    "    return 1 / (1 + np.exp(-z))\n",
    "print(sigmoid(0))"
   ]
  },
  {
   "cell_type": "code",
   "execution_count": null,
   "id": "ee5ba09e-190d-46f2-b784-8eb270b6a91c",
   "metadata": {},
   "outputs": [],
   "source": [
    "def compute_cost(x, y, z, w1,w2):\n",
    "    m = len(y)\n",
    "    w = np.dot(x, w1) + np.dot(y, w2) \n",
    "    predictions = sigmoid(w)\n",
    "    cost = (-1/m) * np.sum(z* np.log(predictions) + (1 - z) * np.log(1 - predictions))\n",
    "    return cost\n",
    "w1 = np.zeros(x_train.shape[1])\n",
    "w2 = np.zeros(y_train.shape[1])\n",
    "cost = compute_cost(x_train, y_train,z_train, w1,w2)\n",
    "print(cost)"
   ]
  },
  {
   "cell_type": "code",
   "execution_count": 2,
   "id": "647dbb48-829a-4690-8e07-e8ecec586771",
   "metadata": {},
   "outputs": [
    {
     "data": {
      "text/plain": [
       "<matplotlib.collections.PathCollection at 0x15786820130>"
      ]
     },
     "execution_count": 2,
     "metadata": {},
     "output_type": "execute_result"
    },
    {
     "data": {
      "image/png": "[encoded data removed]",
      "text/plain": [
       "<Figure size 640x480 with 1 Axes>"
      ]
     },
     "metadata": {},
     "output_type": "display_data"
    },
    {
     "data": {
      "image/png": "[encoded data removed]",
      "text/plain": [
       "<Figure size 640x480 with 1 Axes>"
      ]
     },
     "metadata": {},
     "output_type": "display_data"
    }
   ],
   "source": [
    "#import packages\n",
    "import numpy as np\n",
    "import pandas as pd\n",
    "import matplotlib.pyplot as plt\n",
    "#read csv file \n",
    "df=pd.read_csv(\"class.csv\",nrows=1900)#extract training data\n",
    "x1_train=df['F1']\n",
    "x2_train=df['F2']\n",
    "y_train=df['Class']\n",
    "#ploting data point\n",
    "fig,p=plt.subplots()\n",
    "p.set_title(\"Classification\")\n",
    "p.set_xlabel(\"x_value\")\n",
    "p.set_ylabel(\"y_value\")\n",
    "p.scatter(x1_train,y_train,color='red')\n",
    "p.scatter(x2_train,y_train,color='blue')#combine both feature to single feature\n",
    "x_train=np.column_stack((x1_train,x2_train))\n",
    "m,f=np.shape(x_train)\n",
    "#define f(x) function\n",
    "def f_x(x,w,b):\n",
    "    z=np.dot(x,w)+b\n",
    "    f=1/(1+np.exp(-z))\n",
    "    return f\n",
    "#define cost function\n",
    "def cost(x,y,w,b):\n",
    "    l=y*np.log(f_x(x,w,b))-(1-y)*np.log(1-f_x(x,w,b))\n",
    "    lc=-1/m*np.sum(l)\n",
    "    return lc\n",
    "#derivative wrt w\n",
    "def derive_w(x,y,w,b):\n",
    "    s=1/m*np.dot(x.T,(f_x(x,w,b)-y))\n",
    "    return s\n",
    "#derivative wrt b\n",
    "def derive_b(x,y,w,b):\n",
    "    s=1/m*(f_x(x,w,b)-y).sum()\n",
    "    return s\n",
    "#gradient descent implementation with a=0.03\n",
    "w= np.random.randn(f) * 0.01\n",
    "b=0\n",
    "costs=[]\n",
    "ite=[]\n",
    "wa=[]\n",
    "ba=[]\n",
    "wa.append(w)\n",
    "ba.append(b)\n",
    "a=0.03\n",
    "ct=cost(x_train,y_train,w,b)\n",
    "costs.append(ct)\n",
    "iterations=1000\n",
    "i=1\n",
    "ite.append(i)\n",
    "while i<iterations:\n",
    "    wd=derive_w(x_train,y_train,w,b)\n",
    "    bd=derive_b(x_train,y_train,w,b)\n",
    "    w=w-a*wd\n",
    "    wa.append(w)\n",
    "    b=b-a*bd\n",
    "    ba.append(b)\n",
    "    ct=cost(x_train,y_train,w,b)\n",
    "    costs.append(ct)\n",
    "    i=i+1\n",
    "    ite.append(i)\n",
    "it3=np.array(ite)\n",
    "cp3=np.array(costs)\n",
    "bs=np.array(ba)\n",
    "#print(wa)\n",
    "#iteration vs cost plot\n",
    "plt.plot(it3,cp3)#final logistic regression model\n",
    "y=f_x(x_train,w,b)\n",
    "fig,p=plt.subplots()\n",
    "p.set_title(\"Classification\")\n",
    "p.set_xlabel(\"x_train\")\n",
    "p.set_ylabel(\"y predicted\")\n",
    "p.scatter(x1_train,y)"
   ]
  },
  {
   "cell_type": "code",
   "execution_count": null,
   "id": "b436f884-48ba-4035-b44b-96e79e80e792",
   "metadata": {},
   "outputs": [],
   "source": []
  }
 ],
 "metadata": {
  "kernelspec": {
   "display_name": "tulsi",
   "language": "python",
   "name": "tulsi"
  },
  "language_info": {
   "codemirror_mode": {
    "name": "ipython",
    "version": 3
   },
   "file_extension": ".py",
   "mimetype": "text/x-python",
   "name": "python",
   "nbconvert_exporter": "python",
   "pygments_lexer": "ipython3",
   "version": "3.9.21"
  }
 },
 "nbformat": 4,
 "nbformat_minor": 5
}
