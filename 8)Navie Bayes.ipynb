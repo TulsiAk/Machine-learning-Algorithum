{
 "cells": [
  {
   "cell_type": "code",
   "execution_count": 57,
   "id": "f89be9de-04de-4d6d-a256-bee63b386125",
   "metadata": {},
   "outputs": [],
   "source": [
    "import numpy as np\n",
    "import pandas as pd\n",
    "from collections import defaultdict\n",
    "import math\n"
   ]
  },
  {
   "cell_type": "code",
   "execution_count": 58,
   "id": "53fb1102-2d67-48b0-8a83-8de61b48f356",
   "metadata": {},
   "outputs": [],
   "source": [
    "df = pd.read_csv('weather_forecast.csv')\n"
   ]
  },
  {
   "cell_type": "code",
   "execution_count": 59,
   "id": "a891bea8-bfce-4f5c-a342-18fdc3715460",
   "metadata": {},
   "outputs": [
    {
     "data": {
      "text/html": [
       "<div>\n",
       "<style scoped>\n",
       "    .dataframe tbody tr th:only-of-type {\n",
       "        vertical-align: middle;\n",
       "    }\n",
       "\n",
       "    .dataframe tbody tr th {\n",
       "        vertical-align: top;\n",
       "    }\n",
       "\n",
       "    .dataframe thead th {\n",
       "        text-align: right;\n",
       "    }\n",
       "</style>\n",
       "<table border=\"1\" class=\"dataframe\">\n",
       "  <thead>\n",
       "    <tr style=\"text-align: right;\">\n",
       "      <th></th>\n",
       "      <th>Outlook</th>\n",
       "      <th>Temperature</th>\n",
       "      <th>Humidity</th>\n",
       "      <th>Windy</th>\n",
       "      <th>Play</th>\n",
       "    </tr>\n",
       "  </thead>\n",
       "  <tbody>\n",
       "    <tr>\n",
       "      <th>0</th>\n",
       "      <td>Sunny</td>\n",
       "      <td>Hot</td>\n",
       "      <td>High</td>\n",
       "      <td>Weak</td>\n",
       "      <td>No</td>\n",
       "    </tr>\n",
       "    <tr>\n",
       "      <th>1</th>\n",
       "      <td>Sunny</td>\n",
       "      <td>Hot</td>\n",
       "      <td>High</td>\n",
       "      <td>Strong</td>\n",
       "      <td>No</td>\n",
       "    </tr>\n",
       "    <tr>\n",
       "      <th>2</th>\n",
       "      <td>Overcast</td>\n",
       "      <td>Hot</td>\n",
       "      <td>High</td>\n",
       "      <td>Weak</td>\n",
       "      <td>Yes</td>\n",
       "    </tr>\n",
       "    <tr>\n",
       "      <th>3</th>\n",
       "      <td>Rain</td>\n",
       "      <td>Mild</td>\n",
       "      <td>High</td>\n",
       "      <td>Weak</td>\n",
       "      <td>Yes</td>\n",
       "    </tr>\n",
       "    <tr>\n",
       "      <th>4</th>\n",
       "      <td>Rain</td>\n",
       "      <td>Cool</td>\n",
       "      <td>Normal</td>\n",
       "      <td>Weak</td>\n",
       "      <td>Yes</td>\n",
       "    </tr>\n",
       "    <tr>\n",
       "      <th>5</th>\n",
       "      <td>Rain</td>\n",
       "      <td>Cool</td>\n",
       "      <td>Normal</td>\n",
       "      <td>Strong</td>\n",
       "      <td>No</td>\n",
       "    </tr>\n",
       "    <tr>\n",
       "      <th>6</th>\n",
       "      <td>Overcast</td>\n",
       "      <td>Cool</td>\n",
       "      <td>Normal</td>\n",
       "      <td>Strong</td>\n",
       "      <td>Yes</td>\n",
       "    </tr>\n",
       "    <tr>\n",
       "      <th>7</th>\n",
       "      <td>Sunny</td>\n",
       "      <td>Mild</td>\n",
       "      <td>High</td>\n",
       "      <td>Weak</td>\n",
       "      <td>No</td>\n",
       "    </tr>\n",
       "    <tr>\n",
       "      <th>8</th>\n",
       "      <td>Sunny</td>\n",
       "      <td>Cool</td>\n",
       "      <td>Normal</td>\n",
       "      <td>Weak</td>\n",
       "      <td>Yes</td>\n",
       "    </tr>\n",
       "    <tr>\n",
       "      <th>9</th>\n",
       "      <td>Rain</td>\n",
       "      <td>Mild</td>\n",
       "      <td>Normal</td>\n",
       "      <td>Weak</td>\n",
       "      <td>Yes</td>\n",
       "    </tr>\n",
       "    <tr>\n",
       "      <th>10</th>\n",
       "      <td>Sunny</td>\n",
       "      <td>Mild</td>\n",
       "      <td>Normal</td>\n",
       "      <td>Strong</td>\n",
       "      <td>Yes</td>\n",
       "    </tr>\n",
       "    <tr>\n",
       "      <th>11</th>\n",
       "      <td>Overcast</td>\n",
       "      <td>Mild</td>\n",
       "      <td>High</td>\n",
       "      <td>Strong</td>\n",
       "      <td>Yes</td>\n",
       "    </tr>\n",
       "    <tr>\n",
       "      <th>12</th>\n",
       "      <td>Overcast</td>\n",
       "      <td>Hot</td>\n",
       "      <td>Normal</td>\n",
       "      <td>Weak</td>\n",
       "      <td>Yes</td>\n",
       "    </tr>\n",
       "    <tr>\n",
       "      <th>13</th>\n",
       "      <td>Rain</td>\n",
       "      <td>Mild</td>\n",
       "      <td>High</td>\n",
       "      <td>Strong</td>\n",
       "      <td>No</td>\n",
       "    </tr>\n",
       "  </tbody>\n",
       "</table>\n",
       "</div>"
      ],
      "text/plain": [
       "     Outlook Temperature Humidity   Windy Play\n",
       "0      Sunny         Hot     High    Weak   No\n",
       "1      Sunny         Hot     High  Strong   No\n",
       "2   Overcast         Hot     High    Weak  Yes\n",
       "3       Rain        Mild     High    Weak  Yes\n",
       "4       Rain        Cool   Normal    Weak  Yes\n",
       "5       Rain        Cool   Normal  Strong   No\n",
       "6   Overcast        Cool   Normal  Strong  Yes\n",
       "7      Sunny        Mild     High    Weak   No\n",
       "8      Sunny        Cool   Normal    Weak  Yes\n",
       "9       Rain        Mild   Normal    Weak  Yes\n",
       "10     Sunny        Mild   Normal  Strong  Yes\n",
       "11  Overcast        Mild     High  Strong  Yes\n",
       "12  Overcast         Hot   Normal    Weak  Yes\n",
       "13      Rain        Mild     High  Strong   No"
      ]
     },
     "execution_count": 59,
     "metadata": {},
     "output_type": "execute_result"
    }
   ],
   "source": [
    "df"
   ]
  },
  {
   "cell_type": "code",
   "execution_count": 60,
   "id": "30268273-b60f-40d7-8162-97e617f0c9d1",
   "metadata": {},
   "outputs": [
    {
     "name": "stdout",
     "output_type": "stream",
     "text": [
      "Rows: 14, Columns: 5\n"
     ]
    }
   ],
   "source": [
    "print(f\"Rows: {df.shape[0]}, Columns: {df.shape[1]}\")\n"
   ]
  },
  {
   "cell_type": "code",
   "execution_count": 61,
   "id": "555bc5a5-a20e-4485-bd35-1167e06e5b91",
   "metadata": {},
   "outputs": [
    {
     "name": "stdout",
     "output_type": "stream",
     "text": [
      "<class 'pandas.core.frame.DataFrame'>\n",
      "RangeIndex: 14 entries, 0 to 13\n",
      "Data columns (total 5 columns):\n",
      " #   Column       Non-Null Count  Dtype \n",
      "---  ------       --------------  ----- \n",
      " 0   Outlook      14 non-null     object\n",
      " 1   Temperature  14 non-null     object\n",
      " 2   Humidity     14 non-null     object\n",
      " 3   Windy        14 non-null     object\n",
      " 4   Play         14 non-null     object\n",
      "dtypes: object(5)\n",
      "memory usage: 688.0+ bytes\n"
     ]
    }
   ],
   "source": [
    "df.info()"
   ]
  },
  {
   "cell_type": "code",
   "execution_count": 62,
   "id": "2b134661-cbf2-4863-b5fb-a88a107bf43b",
   "metadata": {},
   "outputs": [
    {
     "name": "stdout",
     "output_type": "stream",
     "text": [
      "\n",
      "Distinct values for each feature:\n",
      "+--------------+----------------------+-------+\n",
      "| Features     | Distinct Values       | Count |\n",
      "+--------------+----------------------+-------+\n",
      "| Outlook      | Sunny, Overcast, Rain | 3 |\n",
      "| Temperature   | Hot, Mild, Cool      | 3 |\n",
      "| Humidity     | High, Normal         | 2 |\n",
      "| Windy        | Weak, Strong         | 2 |\n",
      "+------------+----------------------+-------+\n"
     ]
    }
   ],
   "source": [
    "print(\"\\nDistinct values for each feature:\")\n",
    "print(\"+--------------+----------------------+-------+\")\n",
    "print(\"| Features     | Distinct Values       | Count |\")\n",
    "print(\"+--------------+----------------------+-------+\")\n",
    "\n",
    "for col in df.columns[:-1]:\n",
    "    unique_vals = df[col].unique()\n",
    "    count = len(unique_vals)\n",
    "    values = \", \".join(map(str, unique_vals))\n",
    "    print(f\"| {col.ljust(10)}   | {values.ljust(20)} | {count} |\")\n",
    "\n",
    "print(\"+------------+----------------------+-------+\")\n"
   ]
  },
  {
   "cell_type": "code",
   "execution_count": 63,
   "id": "898eb9c4-e9b2-4645-ba91-1aed3cfa1d84",
   "metadata": {},
   "outputs": [
    {
     "name": "stdout",
     "output_type": "stream",
     "text": [
      "Play\n",
      "Yes    9\n",
      "No     5\n",
      "Name: count, dtype: int64\n"
     ]
    }
   ],
   "source": [
    "print(df[df.columns[-1]].value_counts())"
   ]
  },
  {
   "cell_type": "code",
   "execution_count": 64,
   "id": "28f03227-0888-4b57-a092-c630a423f725",
   "metadata": {},
   "outputs": [
    {
     "name": "stdout",
     "output_type": "stream",
     "text": [
      "\n",
      "Class-label Prior Probabilities:\n",
      "P(Yes) = 9/14 = 0.6429\n",
      "P(No) = 5/14 = 0.3571\n",
      "\n",
      "Feature-wise Conditional Probabilities (Likelihood):\n",
      "\n",
      "Feature: Outlook\n",
      "P(Outlook = Sunny | Play = Yes) = 0.2222\n",
      "P(Outlook = Sunny | Play = No) = 0.6\n",
      "P(Outlook = Overcast | Play = Yes) = 0.4444\n",
      "P(Outlook = Overcast | Play = No) = 0.0\n",
      "P(Outlook = Rain | Play = Yes) = 0.3333\n",
      "P(Outlook = Rain | Play = No) = 0.4\n",
      "\n",
      "Feature: Temperature\n",
      "P(Temperature = Hot | Play = Yes) = 0.2222\n",
      "P(Temperature = Hot | Play = No) = 0.4\n",
      "P(Temperature = Mild | Play = Yes) = 0.4444\n",
      "P(Temperature = Mild | Play = No) = 0.4\n",
      "P(Temperature = Cool | Play = Yes) = 0.3333\n",
      "P(Temperature = Cool | Play = No) = 0.2\n",
      "\n",
      "Feature: Humidity\n",
      "P(Humidity = High | Play = Yes) = 0.3333\n",
      "P(Humidity = High | Play = No) = 0.8\n",
      "P(Humidity = Normal | Play = Yes) = 0.6667\n",
      "P(Humidity = Normal | Play = No) = 0.2\n",
      "\n",
      "Feature: Windy\n",
      "P(Windy = Weak | Play = Yes) = 0.6667\n",
      "P(Windy = Weak | Play = No) = 0.4\n",
      "P(Windy = Strong | Play = Yes) = 0.3333\n",
      "P(Windy = Strong | Play = No) = 0.6\n",
      "\n",
      "Predicted Class Label: Yes\n"
     ]
    }
   ],
   "source": [
    "\n",
    "def get_count(data, key_func):\n",
    "    \"\"\"Helper function to count occurrences based on a given key function.\"\"\"\n",
    "    counts = defaultdict(int)\n",
    "    for item in data:\n",
    "        counts[key_func(item)] += 1\n",
    "    return counts\n",
    "\n",
    "def NaiveBayes(df):\n",
    "    N, cols = df.shape\n",
    "    f_names = df.columns[:-1]  # All features except last column\n",
    "    l_name = df.columns[-1]  # Last column is the target variable (label)\n",
    "\n",
    "    # Compute class label prior probabilities\n",
    "    labels = df[l_name].value_counts().to_dict()\n",
    "    cl_p = {label: count / N for label, count in labels.items()}\n",
    "\n",
    "    print(\"\\nClass-label Prior Probabilities:\")\n",
    "    for label, count in labels.items():\n",
    "        print(f\"P({label}) = {count}/{N} = {round(count/N, 4)}\")\n",
    "\n",
    "    def fit():\n",
    "        model = {}\n",
    "        print(\"\\nFeature-wise Conditional Probabilities (Likelihood):\")\n",
    "\n",
    "        for f_name in f_names:\n",
    "            print(f\"\\nFeature: {f_name}\")\n",
    "            vals = df[[f_name, l_name]].values\n",
    "            f_count = get_count(vals, lambda item: str(item[0]) + str(item[1]))  # String keys for dict\n",
    "\n",
    "            for feature in df[f_name].unique():\n",
    "                for label, count in labels.items():\n",
    "                    aib = f_count.get(str(feature) + str(label), 0)  # Get count of feature given label\n",
    "                    prob = aib / count if count != 0 else 0\n",
    "                    model[(f_name, feature, label)] = prob\n",
    "                    print(f\"P({f_name} = {feature} | {l_name} = {label}) = {round(prob, 4)}\")\n",
    "\n",
    "        def predict(x_qs):\n",
    "            sigma_cl = {}\n",
    "            for label, prior in cl_p.items():\n",
    "                sigma = math.log(prior)  # Start with prior probability\n",
    "                for idx, x_q in enumerate(x_qs):\n",
    "                    cp = model.get((f_names[idx], x_q, label), 1e-10)  # Avoid zero probability\n",
    "                    sigma += math.log(cp)\n",
    "                sigma_cl[label] = sigma\n",
    "            return max(sigma_cl, key=sigma_cl.get)  # Return label with highest probability\n",
    "\n",
    "        return predict\n",
    "\n",
    "    return fit\n",
    "\n",
    "# Load the dataset from CSV\n",
    "df = pd.read_csv('weather_forecast.csv')\n",
    "\n",
    "# Train Naïve Bayes Model\n",
    "fit = NaiveBayes(df)\n",
    "predict = fit()\n",
    "\n",
    "# Example test case\n",
    "test_sample = ['Rain', 'Cool']  # Modify based on your dataset's features\n",
    "predicted_label = predict(test_sample)\n",
    "print(\"\\nPredicted Class Label:\", predicted_label)\n"
   ]
  },
  {
   "cell_type": "code",
   "execution_count": 47,
   "id": "5cece9b6-9040-494e-a2cc-d389068749da",
   "metadata": {},
   "outputs": [
    {
     "name": "stdout",
     "output_type": "stream",
     "text": [
      "\n",
      "Query point: ['Sunny', 'Cool', 'Low', 'Strong']\n",
      "Output: Yes\n"
     ]
    }
   ],
   "source": [
    "print(\"\\nQuery point:\", query_point)\n",
    "print(\"Output:\", predicted_label)"
   ]
  },
  {
   "cell_type": "code",
   "execution_count": 53,
   "id": "4c393ea6-7921-45c2-b431-3d6f1425a062",
   "metadata": {},
   "outputs": [
    {
     "name": "stdout",
     "output_type": "stream",
     "text": [
      "P(Play = Yes | ['Sunny', 'Cool', 'Low', 'Strong']) = -6.2691\n",
      "P(Play = No  | ['Sunny', 'Cool', 'Low', 'Strong']) = -5.9225\n",
      "\n",
      "Query point: ['Sunny', 'Cool', 'Low', 'Strong']\n",
      "Output: No\n"
     ]
    }
   ],
   "source": [
    "import math\n",
    "def calculate_log_probabilities(query_point):\n",
    "    log_probs = {}\n",
    "\n",
    "    for cls in class_counts.keys():\n",
    "        log_prob = math.log(class_prob[cls])\n",
    "        \n",
    "        for feature, value in zip(features, query_point):\n",
    "            prob = conditional_prob.get((feature, value, cls), 1e-1)\n",
    "            log_prob += math.log(prob)\n",
    "        \n",
    "        log_probs[cls] = log_prob\n",
    "    \n",
    "    return log_probs\n",
    "\n",
    "query_point = ['Sunny', 'Cool', 'Low', 'Strong']\n",
    "log_probs = calculate_log_probabilities(query_point)\n",
    "\n",
    "print(f\"P(Play = Yes | {query_point}) = {round(log_probs['Yes'], 4)}\")\n",
    "print(f\"P(Play = No  | {query_point}) = {round(log_probs['No'], 4)}\")\n",
    "print(\"\\nQuery point:\", query_point)\n",
    "print(\"Output:\", \"Yes\" if log_probs['Yes'] > log_probs['No'] else \"No\")\n"
   ]
  },
  {
   "cell_type": "code",
   "execution_count": 56,
   "id": "df085a18-ead1-43f2-b775-4a0a916146fa",
   "metadata": {},
   "outputs": [
    {
     "name": "stdout",
     "output_type": "stream",
     "text": [
      "P(Play = Yes | ['Sunny', 'Cool', 'Low', 'Weak']) = -6.2691\n",
      "P(Play = No  | ['Sunny', 'Cool', 'Low', 'Weak']) = -5.9225\n",
      "\n",
      "Query point: ['Sunny', 'Cool', 'Low', 'Weak']\n",
      "Output: Yes\n"
     ]
    }
   ],
   "source": [
    "query_point = ['Sunny', 'Cool', 'Low', 'Weak']\n",
    "\n",
    "print(f\"P(Play = Yes | {query_point}) = {round(log_probs['Yes'], 4)}\")\n",
    "print(f\"P(Play = No  | {query_point}) = {round(log_probs['No'], 4)}\")\n",
    "print(\"\\nQuery point:\", query_point)\n",
    "print(\"Output:\", \"Yes\" if log_probs['Yes'] < log_probs['No'] else \"No\")\n"
   ]
  },
  {
   "cell_type": "code",
   "execution_count": 86,
   "id": "b16fbd15-1183-4c2e-83e8-0e466ca6cd81",
   "metadata": {},
   "outputs": [
    {
     "name": "stdout",
     "output_type": "stream",
     "text": [
      "P(Play = Yes | ['Windy', 'Cool', 'High', 'Strong']) = -5.8745\n",
      "P(Play = No | ['Windy', 'Cool', 'High', 'Strong']) = -5.1244\n",
      "Query point: ['Windy', 'Cool', 'High', 'Strong']\n",
      "Output: No\n"
     ]
    }
   ],
   "source": [
    "query_point = ['Windy', 'Cool', 'High', 'Strong']\n",
    "log_probs = calculate_log_probabilities(query_point)\n",
    "\n",
    "print(f\"P(Play = Yes | {query_point}) = {round(log_probs['Yes'], 4)}\")\n",
    "print(f\"P(Play = No | {query_point}) = {round(log_probs['No'], 4)}\")\n",
    "print(\"Query point:\", query_point)\n",
    "print(\"Output:\", \"Yes\" if log_probs['Yes'] > log_probs['No'] else \"No\")\n"
   ]
  },
  {
   "cell_type": "code",
   "execution_count": 87,
   "id": "6774757e-adad-4de4-9af3-43967e2a5dd0",
   "metadata": {},
   "outputs": [
    {
     "name": "stdout",
     "output_type": "stream",
     "text": [
      "P(Play = Yes | ['Windy', 'Cool', 'Low', 'Strong']) = -7.2608\n",
      "P(Play = No | ['Windy', 'Cool', 'Low', 'Strong']) = -6.7338\n",
      "Query point: ['Windy', 'Cool', 'Low', 'Strong']\n",
      "Output: No\n"
     ]
    }
   ],
   "source": [
    "query_point = ['Windy', 'Cool', 'Low', 'Strong']\n",
    "log_probs = calculate_log_probabilities(query_point)\n",
    "\n",
    "print(f\"P(Play = Yes | {query_point}) = {round(log_probs['Yes'], 4)}\")\n",
    "print(f\"P(Play = No | {query_point}) = {round(log_probs['No'], 4)}\")\n",
    "print(\"Query point:\", query_point)\n",
    "print(\"Output:\", \"Yes\" if log_probs['Yes'] > log_probs['No'] else \"No\")\n"
   ]
  },
  {
   "cell_type": "code",
   "execution_count": 88,
   "id": "85735da7-5d0d-4889-b697-c98d285e9821",
   "metadata": {},
   "outputs": [
    {
     "name": "stdout",
     "output_type": "stream",
     "text": [
      "P(Play = Yes | ['Windy', 'Cool', 'High', 'Weak']) = -5.3149\n",
      "P(Play = No | ['Windy', 'Cool', 'High', 'Weak']) = -5.4121\n",
      "Query point: ['Windy', 'Cool', 'High', 'Weak']\n",
      "Output: Yes\n"
     ]
    }
   ],
   "source": [
    "query_point = ['Windy', 'Cool', 'High', 'Weak']\n",
    "log_probs = calculate_log_probabilities(query_point)\n",
    "\n",
    "print(f\"P(Play = Yes | {query_point}) = {round(log_probs['Yes'], 4)}\")\n",
    "print(f\"P(Play = No | {query_point}) = {round(log_probs['No'], 4)}\")\n",
    "print(\"Query point:\", query_point)\n",
    "print(\"Output:\", \"Yes\" if log_probs['Yes'] > log_probs['No'] else \"No\")\n"
   ]
  },
  {
   "cell_type": "code",
   "execution_count": 67,
   "id": "32760156-1025-47cf-ae11-adf14c3a78af",
   "metadata": {},
   "outputs": [
    {
     "name": "stdout",
     "output_type": "stream",
     "text": [
      "P(Play = Yes | ['Sunny', 'Cool', 'Low', 'Weak']) = -5.6026\n",
      "P(Play = No | ['Sunny', 'Cool', 'Low', 'Weak']) = -5.6352\n",
      "Query point: ['Sunny', 'Cool', 'Low', 'Weak']\n",
      "Output: Yes\n"
     ]
    }
   ],
   "source": [
    "\n",
    "features = df.columns[:-1]\n",
    "target = df.columns[-1]\n",
    "\n",
    "# Calculate prior probabilities\n",
    "class_counts = df[target].value_counts().to_dict()\n",
    "total_samples = len(df)\n",
    "priors = {cls: log(count / total_samples) for cls, count in class_counts.items()}\n",
    "\n",
    "# Calculate conditional probabilities\n",
    "conditional_probs = defaultdict(lambda: defaultdict(lambda: defaultdict(float)))\n",
    "\n",
    "for feature in features:\n",
    "    for cls in class_counts.keys():\n",
    "        feature_counts = df[df[target] == cls][feature].value_counts().to_dict()\n",
    "        total_cls = class_counts[cls]\n",
    "        for value in feature_counts:\n",
    "            conditional_probs[feature][value][cls] = log((feature_counts[value] + 1) / (total_cls + 2))  # Laplace smoothing\n",
    "\n",
    "# Function to calculate log probabilities\n",
    "def calculate_log_probabilities(query_point):\n",
    "    log_probs = priors.copy()\n",
    "    for feature, value in zip(features, query_point):\n",
    "        for cls in class_counts.keys():\n",
    "            log_probs[cls] += conditional_probs[feature][value].get(cls, log(1 / (class_counts[cls] + 2)))  # Handle missing values\n",
    "    return log_probs\n",
    "\n",
    "# Test Case: Humidity = Low, Wind = Weak\n",
    "query_point = ['Sunny', 'Cool', 'Low', 'Weak']\n",
    "log_probs = calculate_log_probabilities(query_point)\n",
    "\n",
    "# Print Output\n",
    "print(f\"P(Play = Yes | {query_point}) = {round(log_probs['Yes'], 4)}\")\n",
    "print(f\"P(Play = No | {query_point}) = {round(log_probs['No'], 4)}\")\n",
    "print(\"Query point:\", query_point)\n",
    "print(\"Output:\", \"Yes\" if log_probs['Yes'] > log_probs['No'] else \"No\")\n"
   ]
  },
  {
   "cell_type": "code",
   "execution_count": 76,
   "id": "daa384c1-dcc9-4f57-a1a8-83943aff64ec",
   "metadata": {},
   "outputs": [
    {
     "name": "stdout",
     "output_type": "stream",
     "text": [
      "P(Play = Yes | ['Sunny', 'Cool', 'Low', 'Strong']) = -6.1622\n",
      "P(Play = No | ['Sunny', 'Cool', 'Low', 'Strong']) = -5.3475\n",
      "Query point: ['Sunny', 'Cool', 'Low', 'Strong']\n",
      "Output: No\n"
     ]
    }
   ],
   "source": [
    "query_point = ['Sunny', 'Cool', 'Low', 'Strong']\n",
    "log_probs = calculate_log_probabilities(query_point)\n",
    "\n",
    "print(f\"P(Play = Yes | {query_point}) = {round(log_probs['Yes'], 4)}\")\n",
    "print(f\"P(Play = No | {query_point}) = {round(log_probs['No'], 4)}\")\n",
    "print(\"Query point:\", query_point)\n",
    "print(\"Output:\", \"Yes\" if log_probs['Yes'] > log_probs['No'] else \"No\")\n"
   ]
  },
  {
   "cell_type": "code",
   "execution_count": 77,
   "id": "c9540f81-8ae7-40cb-acb2-bc21b854291d",
   "metadata": {},
   "outputs": [
    {
     "name": "stdout",
     "output_type": "stream",
     "text": [
      "P(Play = Yes | ['Sunny', 'Cool', 'High', 'Strong']) = -4.7759\n",
      "P(Play = No | ['Sunny', 'Cool', 'High', 'Strong']) = -3.7381\n",
      "Query point: ['Sunny', 'Cool', 'High', 'Strong']\n",
      "Output: No\n"
     ]
    }
   ],
   "source": [
    "query_point = ['Sunny', 'Cool', 'High', 'Strong']\n",
    "log_probs = calculate_log_probabilities(query_point)\n",
    "\n",
    "print(f\"P(Play = Yes | {query_point}) = {round(log_probs['Yes'], 4)}\")\n",
    "print(f\"P(Play = No | {query_point}) = {round(log_probs['No'], 4)}\")\n",
    "print(\"Query point:\", query_point)\n",
    "print(\"Output:\", \"Yes\" if log_probs['Yes'] > log_probs['No'] else \"No\")\n"
   ]
  },
  {
   "cell_type": "code",
   "execution_count": 78,
   "id": "67247e74-7a7b-4f9c-94f8-9b093fc7083c",
   "metadata": {},
   "outputs": [
    {
     "name": "stdout",
     "output_type": "stream",
     "text": [
      "P(Play = Yes | ['Windy', 'Cool', 'High', 'Strong']) = -5.8745\n",
      "P(Play = No | ['Windy', 'Cool', 'High', 'Strong']) = -5.1244\n",
      "Query point: ['Windy', 'Cool', 'High', 'Strong']\n",
      "Output: No\n"
     ]
    }
   ],
   "source": [
    "query_point = ['Windy', 'Cool', 'High', 'Strong']\n",
    "log_probs = calculate_log_probabilities(query_point)\n",
    "\n",
    "print(f\"P(Play = Yes | {query_point}) = {round(log_probs['Yes'], 4)}\")\n",
    "print(f\"P(Play = No | {query_point}) = {round(log_probs['No'], 4)}\")\n",
    "print(\"Query point:\", query_point)\n",
    "print(\"Output:\", \"Yes\" if log_probs['Yes'] > log_probs['No'] else \"No\")\n"
   ]
  },
  {
   "cell_type": "code",
   "execution_count": 79,
   "id": "34fb469a-1630-47fe-89d9-56e7e5eb954e",
   "metadata": {},
   "outputs": [
    {
     "name": "stdout",
     "output_type": "stream",
     "text": [
      "P(Play = Yes | ['Windy', 'Hot', 'High', 'Strong']) = -6.1622\n",
      "P(Play = No | ['Windy', 'Hot', 'High', 'Strong']) = -4.7189\n",
      "Query point: ['Windy', 'Hot', 'High', 'Strong']\n",
      "Output: No\n"
     ]
    }
   ],
   "source": [
    "query_point = ['Windy', 'Hot', 'High', 'Strong']\n",
    "log_probs = calculate_log_probabilities(query_point)\n",
    "\n",
    "print(f\"P(Play = Yes | {query_point}) = {round(log_probs['Yes'], 4)}\")\n",
    "print(f\"P(Play = No | {query_point}) = {round(log_probs['No'], 4)}\")\n",
    "print(\"Query point:\", query_point)\n",
    "print(\"Output:\", \"Yes\" if log_probs['Yes'] > log_probs['No'] else \"No\")\n"
   ]
  },
  {
   "cell_type": "code",
   "execution_count": null,
   "id": "5e4b870e-8e71-46df-afb3-3a82d7e2940b",
   "metadata": {},
   "outputs": [],
   "source": []
  }
 ],
 "metadata": {
  "kernelspec": {
   "display_name": "tulsi",
   "language": "python",
   "name": "tulsi"
  },
  "language_info": {
   "codemirror_mode": {
    "name": "ipython",
    "version": 3
   },
   "file_extension": ".py",
   "mimetype": "text/x-python",
   "name": "python",
   "nbconvert_exporter": "python",
   "pygments_lexer": "ipython3",
   "version": "3.9.21"
  }
 },
 "nbformat": 4,
 "nbformat_minor": 5
}
