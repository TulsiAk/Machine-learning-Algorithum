{
 "cells": [
  {
   "cell_type": "code",
   "execution_count": 3,
   "id": "8022904e-b1dd-4f7b-83a4-8a32e9637d39",
   "metadata": {},
   "outputs": [],
   "source": [
    "import numpy as np\n",
    "import pandas as pd\n",
    "import matplotlib.pyplot as plt"
   ]
  },
  {
   "cell_type": "code",
   "execution_count": 4,
   "id": "ad68c407-5145-435d-bba4-b7cf77e0c52b",
   "metadata": {},
   "outputs": [
    {
     "data": {
      "text/html": [
       "<div>\n",
       "<style scoped>\n",
       "    .dataframe tbody tr th:only-of-type {\n",
       "        vertical-align: middle;\n",
       "    }\n",
       "\n",
       "    .dataframe tbody tr th {\n",
       "        vertical-align: top;\n",
       "    }\n",
       "\n",
       "    .dataframe thead th {\n",
       "        text-align: right;\n",
       "    }\n",
       "</style>\n",
       "<table border=\"1\" class=\"dataframe\">\n",
       "  <thead>\n",
       "    <tr style=\"text-align: right;\">\n",
       "      <th></th>\n",
       "      <th>outlook</th>\n",
       "      <th>temp</th>\n",
       "      <th>humidity</th>\n",
       "      <th>windy</th>\n",
       "      <th>play</th>\n",
       "    </tr>\n",
       "  </thead>\n",
       "  <tbody>\n",
       "    <tr>\n",
       "      <th>0</th>\n",
       "      <td>sunny</td>\n",
       "      <td>hot</td>\n",
       "      <td>high</td>\n",
       "      <td>False</td>\n",
       "      <td>no</td>\n",
       "    </tr>\n",
       "    <tr>\n",
       "      <th>1</th>\n",
       "      <td>sunny</td>\n",
       "      <td>hot</td>\n",
       "      <td>high</td>\n",
       "      <td>True</td>\n",
       "      <td>no</td>\n",
       "    </tr>\n",
       "    <tr>\n",
       "      <th>2</th>\n",
       "      <td>overcast</td>\n",
       "      <td>hot</td>\n",
       "      <td>high</td>\n",
       "      <td>False</td>\n",
       "      <td>yes</td>\n",
       "    </tr>\n",
       "    <tr>\n",
       "      <th>3</th>\n",
       "      <td>rainy</td>\n",
       "      <td>mild</td>\n",
       "      <td>high</td>\n",
       "      <td>False</td>\n",
       "      <td>yes</td>\n",
       "    </tr>\n",
       "    <tr>\n",
       "      <th>4</th>\n",
       "      <td>rainy</td>\n",
       "      <td>cool</td>\n",
       "      <td>normal</td>\n",
       "      <td>False</td>\n",
       "      <td>yes</td>\n",
       "    </tr>\n",
       "  </tbody>\n",
       "</table>\n",
       "</div>"
      ],
      "text/plain": [
       "    outlook  temp humidity  windy play\n",
       "0     sunny   hot     high  False   no\n",
       "1     sunny   hot     high   True   no\n",
       "2  overcast   hot     high  False  yes\n",
       "3     rainy  mild     high  False  yes\n",
       "4     rainy  cool   normal  False  yes"
      ]
     },
     "execution_count": 4,
     "metadata": {},
     "output_type": "execute_result"
    }
   ],
   "source": [
    "data=pd.read_csv('PlayTennis.csv')\n",
    "data.head()\n"
   ]
  },
  {
   "cell_type": "code",
   "execution_count": 5,
   "id": "072883d9-e8f0-4983-8165-e2962eb8e6a2",
   "metadata": {},
   "outputs": [
    {
     "data": {
      "text/plain": [
       "5"
      ]
     },
     "execution_count": 5,
     "metadata": {},
     "output_type": "execute_result"
    }
   ],
   "source": [
    "data['play'].value_counts()['no']"
   ]
  },
  {
   "cell_type": "code",
   "execution_count": 7,
   "id": "f19780f0-df86-4c93-bb6e-ae7c9e72269c",
   "metadata": {},
   "outputs": [
    {
     "data": {
      "text/plain": [
       "9"
      ]
     },
     "execution_count": 7,
     "metadata": {},
     "output_type": "execute_result"
    }
   ],
   "source": [
    "data['play'].value_counts()['yes']\n"
   ]
  },
  {
   "cell_type": "code",
   "execution_count": 17,
   "id": "ba631c0b-a94d-47d7-ad78-5892e61b266e",
   "metadata": {},
   "outputs": [],
   "source": [
    "def find_entropy(data):\n",
    "    entropy = 0\n",
    "    value_counts = data.value_counts()\n",
    "    for i in range(len(value_counts)):  \n",
    "        x = value_counts.iloc[i] / data.shape[0]  \n",
    "        entropy += (-x * math.log(x, 2))\n",
    "    return round(entropy, 3)\n"
   ]
  },
  {
   "cell_type": "code",
   "execution_count": 23,
   "id": "733745f9-b6f2-4337-93bd-49253dc1b68c",
   "metadata": {},
   "outputs": [],
   "source": [
    "def find_entropy(data):\n",
    "    entropy=0\n",
    "    value_count=data.value_count()\n",
    "    for i in  range(len(value_count)):\n",
    "        x= value_counts\n",
    "        entropy+=(-x * math.log(x,2))\n",
    "    return round(entropy,3)\n",
    "def find_ig(data, feature):\n",
    "    for i in range \n",
    "    ig=entropy-(-x * math.log(x, 2))"
   ]
  },
  {
   "cell_type": "code",
   "execution_count": 5,
   "id": "21eb51d3-408c-4fa9-817f-7e0c5e36dfbd",
   "metadata": {},
   "outputs": [],
   "source": [
    "\n",
    "def information_gain(data, feature):\n",
    "    info = 0\n",
    "    unique_values = data[feature].unique()\n",
    "    for value in unique_values:\n",
    "        df = data[data[feature] == value]\n",
    "        w_avg = df.shape[0] / data.shape[0]\n",
    "        entropy = find_entropy(df['play'])\n",
    "        info += w_avg * entropy\n",
    "    ig = find_entropy(data['play']) - info\n",
    "    return round(ig, 3)\n",
    "\n",
    "def entropy_and_infogain(data, feature):\n",
    "    unique_values = data[feature].unique()\n",
    "    for value in unique_values:\n",
    "        df = data[data[feature] == value]\n",
    "        if df.shape[0] < 1:\n",
    "            continue\n",
    "        \n",
    "        # Print the subset table\n",
    "        print(df[[feature, 'play']].to_string(index=False))\n",
    "        print(f\"\\nEntropy of {feature} - {value} = {find_entropy(df['play'])}\\n\")\n",
    "\n",
    "    print(f\"Information Gain for {feature} = {information_gain(data, feature)}\")\n",
    "\n"
   ]
  },
  {
   "cell_type": "code",
   "execution_count": 6,
   "id": "cd46e397-0507-435b-b5c6-a6da6deb2c33",
   "metadata": {},
   "outputs": [
    {
     "name": "stdout",
     "output_type": "stream",
     "text": [
      "Entropy of the entire dataset: 0.94\n"
     ]
    }
   ],
   "source": [
    "import math\n",
    "E = find_entropy(data['play'])  \n",
    "print(\"Entropy of the entire dataset:\", E)\n"
   ]
  },
  {
   "cell_type": "code",
   "execution_count": 7,
   "id": "6a5b86dd-de2a-4443-9f26-38665aa39cc1",
   "metadata": {},
   "outputs": [
    {
     "name": "stdout",
     "output_type": "stream",
     "text": [
      "outlook play\n",
      "  sunny   no\n",
      "  sunny   no\n",
      "  sunny   no\n",
      "  sunny  yes\n",
      "  sunny  yes\n",
      "\n",
      "Entropy of outlook - sunny = 0.971\n",
      "\n",
      " outlook play\n",
      "overcast  yes\n",
      "overcast  yes\n",
      "overcast  yes\n",
      "overcast  yes\n",
      "\n",
      "Entropy of outlook - overcast = 0.0\n",
      "\n",
      "outlook play\n",
      "  rainy  yes\n",
      "  rainy  yes\n",
      "  rainy   no\n",
      "  rainy  yes\n",
      "  rainy   no\n",
      "\n",
      "Entropy of outlook - rainy = 0.971\n",
      "\n",
      "Information Gain for outlook = 0.246\n"
     ]
    }
   ],
   "source": [
    "entropy_and_infogain(data, 'outlook')"
   ]
  },
  {
   "cell_type": "code",
   "execution_count": 8,
   "id": "2db67cdb-a624-47b4-9937-e4087dcee236",
   "metadata": {},
   "outputs": [
    {
     "name": "stdout",
     "output_type": "stream",
     "text": [
      "temp play\n",
      " hot   no\n",
      " hot   no\n",
      " hot  yes\n",
      " hot  yes\n",
      "\n",
      "Entropy of temp - hot = 1.0\n",
      "\n",
      "temp play\n",
      "mild  yes\n",
      "mild   no\n",
      "mild  yes\n",
      "mild  yes\n",
      "mild  yes\n",
      "mild   no\n",
      "\n",
      "Entropy of temp - mild = 0.918\n",
      "\n",
      "temp play\n",
      "cool  yes\n",
      "cool   no\n",
      "cool  yes\n",
      "cool  yes\n",
      "\n",
      "Entropy of temp - cool = 0.811\n",
      "\n",
      "Information Gain for temp = 0.029\n"
     ]
    }
   ],
   "source": [
    "entropy_and_infogain(data, 'temp')"
   ]
  },
  {
   "cell_type": "code",
   "execution_count": 9,
   "id": "a5daeede-e058-4189-85fc-0ca8026d60b8",
   "metadata": {},
   "outputs": [
    {
     "name": "stdout",
     "output_type": "stream",
     "text": [
      "humidity play\n",
      "    high   no\n",
      "    high   no\n",
      "    high  yes\n",
      "    high  yes\n",
      "    high   no\n",
      "    high  yes\n",
      "    high   no\n",
      "\n",
      "Entropy of humidity - high = 0.985\n",
      "\n",
      "humidity play\n",
      "  normal  yes\n",
      "  normal   no\n",
      "  normal  yes\n",
      "  normal  yes\n",
      "  normal  yes\n",
      "  normal  yes\n",
      "  normal  yes\n",
      "\n",
      "Entropy of humidity - normal = 0.592\n",
      "\n",
      "Information Gain for humidity = 0.151\n"
     ]
    }
   ],
   "source": [
    "entropy_and_infogain(data, 'humidity')"
   ]
  },
  {
   "cell_type": "code",
   "execution_count": 10,
   "id": "a275f78e-1dbc-4dbb-ac9f-bc702ddfc7d0",
   "metadata": {},
   "outputs": [
    {
     "name": "stdout",
     "output_type": "stream",
     "text": [
      " windy play\n",
      " False   no\n",
      " False  yes\n",
      " False  yes\n",
      " False  yes\n",
      " False   no\n",
      " False  yes\n",
      " False  yes\n",
      " False  yes\n",
      "\n",
      "Entropy of windy - False = 0.811\n",
      "\n",
      " windy play\n",
      "  True   no\n",
      "  True   no\n",
      "  True  yes\n",
      "  True  yes\n",
      "  True  yes\n",
      "  True   no\n",
      "\n",
      "Entropy of windy - True = 1.0\n",
      "\n",
      "Information Gain for windy = 0.048\n"
     ]
    }
   ],
   "source": [
    "entropy_and_infogain(data, 'windy')"
   ]
  },
  {
   "cell_type": "code",
   "execution_count": 15,
   "id": "2444dfe4-1547-422a-b7b9-c798816452f7",
   "metadata": {},
   "outputs": [
    {
     "name": "stdout",
     "output_type": "stream",
     "text": [
      "OUTLOOK\n",
      "outlook play\n",
      "  sunny   no\n",
      "  sunny   no\n",
      "  sunny   no\n",
      "  sunny  yes\n",
      "  sunny  yes\n",
      "\n",
      "Entropy of outlook - sunny = 0.971\n",
      "\n",
      " outlook play\n",
      "overcast  yes\n",
      "overcast  yes\n",
      "overcast  yes\n",
      "overcast  yes\n",
      "\n",
      "Entropy of outlook - overcast = 0.0\n",
      "\n",
      "outlook play\n",
      "  rainy  yes\n",
      "  rainy  yes\n",
      "  rainy   no\n",
      "  rainy  yes\n",
      "  rainy   no\n",
      "\n",
      "Entropy of outlook - rainy = 0.971\n",
      "\n",
      "Information Gain for outlook = 0.246\n"
     ]
    }
   ],
   "source": [
    "for feature in [\"outlook\"]:\n",
    "    print(feature.upper())\n",
    "    entropy_and_infogain(data, feature)"
   ]
  },
  {
   "cell_type": "code",
   "execution_count": 16,
   "id": "dd0b2b5b-7b72-4088-9120-3d2092d62ee4",
   "metadata": {},
   "outputs": [
    {
     "name": "stdout",
     "output_type": "stream",
     "text": [
      "TEMP\n",
      "temp play\n",
      " hot   no\n",
      " hot   no\n",
      " hot  yes\n",
      " hot  yes\n",
      "\n",
      "Entropy of temp - hot = 1.0\n",
      "\n",
      "temp play\n",
      "mild  yes\n",
      "mild   no\n",
      "mild  yes\n",
      "mild  yes\n",
      "mild  yes\n",
      "mild   no\n",
      "\n",
      "Entropy of temp - mild = 0.918\n",
      "\n",
      "temp play\n",
      "cool  yes\n",
      "cool   no\n",
      "cool  yes\n",
      "cool  yes\n",
      "\n",
      "Entropy of temp - cool = 0.811\n",
      "\n",
      "Information Gain for temp = 0.029\n"
     ]
    }
   ],
   "source": [
    "for feature in [\"temp\"]:\n",
    "    print(feature.upper())\n",
    "    entropy_and_infogain(data, feature)\n"
   ]
  },
  {
   "cell_type": "code",
   "execution_count": 17,
   "id": "ebca950e-d5bc-4d53-a8b3-eacf427d2a6f",
   "metadata": {},
   "outputs": [
    {
     "name": "stdout",
     "output_type": "stream",
     "text": [
      "HUMIDITY\n",
      "humidity play\n",
      "    high   no\n",
      "    high   no\n",
      "    high  yes\n",
      "    high  yes\n",
      "    high   no\n",
      "    high  yes\n",
      "    high   no\n",
      "\n",
      "Entropy of humidity - high = 0.985\n",
      "\n",
      "humidity play\n",
      "  normal  yes\n",
      "  normal   no\n",
      "  normal  yes\n",
      "  normal  yes\n",
      "  normal  yes\n",
      "  normal  yes\n",
      "  normal  yes\n",
      "\n",
      "Entropy of humidity - normal = 0.592\n",
      "\n",
      "Information Gain for humidity = 0.151\n"
     ]
    }
   ],
   "source": [
    "for feature in [\"humidity\"]:\n",
    "    print(feature.upper())\n",
    "    entropy_and_infogain(data, feature)"
   ]
  },
  {
   "cell_type": "code",
   "execution_count": 18,
   "id": "643b899b-5f4f-433d-9c6b-39365a6fb72e",
   "metadata": {},
   "outputs": [
    {
     "name": "stdout",
     "output_type": "stream",
     "text": [
      "WINDY\n",
      " windy play\n",
      " False   no\n",
      " False  yes\n",
      " False  yes\n",
      " False  yes\n",
      " False   no\n",
      " False  yes\n",
      " False  yes\n",
      " False  yes\n",
      "\n",
      "Entropy of windy - False = 0.811\n",
      "\n",
      " windy play\n",
      "  True   no\n",
      "  True   no\n",
      "  True  yes\n",
      "  True  yes\n",
      "  True  yes\n",
      "  True   no\n",
      "\n",
      "Entropy of windy - True = 1.0\n",
      "\n",
      "Information Gain for windy = 0.048\n"
     ]
    }
   ],
   "source": [
    "for feature in [\"windy\"]:\n",
    "    print(feature.upper())\n",
    "    entropy_and_infogain(data, feature)"
   ]
  },
  {
   "cell_type": "code",
   "execution_count": null,
   "id": "16bb12d0-2a3a-4ef1-af28-8caf16ddd01e",
   "metadata": {},
   "outputs": [],
   "source": []
  }
 ],
 "metadata": {
  "kernelspec": {
   "display_name": "tulsi",
   "language": "python",
   "name": "tulsi"
  },
  "language_info": {
   "codemirror_mode": {
    "name": "ipython",
    "version": 3
   },
   "file_extension": ".py",
   "mimetype": "text/x-python",
   "name": "python",
   "nbconvert_exporter": "python",
   "pygments_lexer": "ipython3",
   "version": "3.9.21"
  }
 },
 "nbformat": 4,
 "nbformat_minor": 5
}
