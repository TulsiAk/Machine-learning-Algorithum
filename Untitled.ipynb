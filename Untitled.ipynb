{
 "cells": [
  {
   "cell_type": "code",
   "execution_count": 4,
   "id": "3c3f14be-3543-4033-9f20-8d40a40ce45d",
   "metadata": {},
   "outputs": [],
   "source": [
    "import numpy as np\n",
    "import pandas as pd\n",
    "import matplotlib.pyplot as plt\n"
   ]
  },
  {
   "cell_type": "code",
   "execution_count": 5,
   "id": "f9ff4aef-b7f8-4716-96db-15fda0067ef0",
   "metadata": {},
   "outputs": [
    {
     "data": {
      "text/html": [
       "<div>\n",
       "<style scoped>\n",
       "    .dataframe tbody tr th:only-of-type {\n",
       "        vertical-align: middle;\n",
       "    }\n",
       "\n",
       "    .dataframe tbody tr th {\n",
       "        vertical-align: top;\n",
       "    }\n",
       "\n",
       "    .dataframe thead th {\n",
       "        text-align: right;\n",
       "    }\n",
       "</style>\n",
       "<table border=\"1\" class=\"dataframe\">\n",
       "  <thead>\n",
       "    <tr style=\"text-align: right;\">\n",
       "      <th></th>\n",
       "      <th>study_hours</th>\n",
       "      <th>pass_exam</th>\n",
       "    </tr>\n",
       "  </thead>\n",
       "  <tbody>\n",
       "    <tr>\n",
       "      <th>0</th>\n",
       "      <td>1</td>\n",
       "      <td>0</td>\n",
       "    </tr>\n",
       "    <tr>\n",
       "      <th>1</th>\n",
       "      <td>2</td>\n",
       "      <td>0</td>\n",
       "    </tr>\n",
       "    <tr>\n",
       "      <th>2</th>\n",
       "      <td>3</td>\n",
       "      <td>0</td>\n",
       "    </tr>\n",
       "    <tr>\n",
       "      <th>3</th>\n",
       "      <td>4</td>\n",
       "      <td>0</td>\n",
       "    </tr>\n",
       "    <tr>\n",
       "      <th>4</th>\n",
       "      <td>5</td>\n",
       "      <td>1</td>\n",
       "    </tr>\n",
       "  </tbody>\n",
       "</table>\n",
       "</div>"
      ],
      "text/plain": [
       "   study_hours  pass_exam\n",
       "0            1          0\n",
       "1            2          0\n",
       "2            3          0\n",
       "3            4          0\n",
       "4            5          1"
      ]
     },
     "execution_count": 5,
     "metadata": {},
     "output_type": "execute_result"
    }
   ],
   "source": [
    "data = {\n",
    "    \"study_hours\": [1, 2, 3, 4, 5, 6, 7, 8, 9, 10],\n",
    "    \"pass_exam\": [0, 0, 0, 0, 1, 1, 1, 1, 1, 1]  # 0 = Fail, 1 = Pass\n",
    "}\n",
    "\n",
    "# Convert to DataFrame\n",
    "df = pd.DataFrame(data)\n",
    "\n",
    "# Save as CSV file\n",
    "df.to_csv(\"student_exam.csv\", index=False)\n",
    "\n",
    "df.head()\n"
   ]
  },
  {
   "cell_type": "code",
   "execution_count": 6,
   "id": "a7c81df4-735f-4fdc-ab85-a46fe153a46b",
   "metadata": {},
   "outputs": [
    {
     "data": {
      "image/png": "[encoded data removed]",
      "text/plain": [
       "<Figure size 640x480 with 1 Axes>"
      ]
     },
     "metadata": {},
     "output_type": "display_data"
    }
   ],
   "source": [
    "import matplotlib.pyplot as plt\n",
    "\n",
    "# Scatter plot of study hours vs pass/fail\n",
    "plt.scatter(df[\"study_hours\"], df[\"pass_exam\"], label=\"Actual Data\")\n",
    "\n",
    "# Labels and title\n",
    "plt.xlabel(\"Study Hours\")\n",
    "plt.ylabel(\"Pass Exam (0 = Fail, 1 = Pass)\")\n",
    "plt.title(\"Study Hours vs Exam Pass Rate\")\n",
    "plt.legend()\n",
    "plt.show()\n"
   ]
  },
  {
   "cell_type": "code",
   "execution_count": 7,
   "id": "cf362057-5485-4634-9a9d-3e88f93d3f71",
   "metadata": {},
   "outputs": [
    {
     "name": "stdout",
     "output_type": "stream",
     "text": [
      "Sigmoid(0): 0.5\n"
     ]
    }
   ],
   "source": [
    "import numpy as np\n",
    "\n",
    "# Sigmoid function\n",
    "def sigmoid(z):\n",
    "    return 1 / (1 + np.exp(-z))\n",
    "\n",
    "# Test the function\n",
    "print(\"Sigmoid(0):\", sigmoid(0))  # Expected Output: 0.5\n"
   ]
  },
  {
   "cell_type": "code",
   "execution_count": 8,
   "id": "774649de-2979-4c97-a7dc-9d182e227de6",
   "metadata": {},
   "outputs": [
    {
     "name": "stdout",
     "output_type": "stream",
     "text": [
      "Feature Matrix (with Bias):\n",
      " [[1. 1.]\n",
      " [1. 2.]\n",
      " [1. 3.]\n",
      " [1. 4.]\n",
      " [1. 5.]]\n",
      "Target Values:\n",
      " [0 0 0 0 1]\n"
     ]
    }
   ],
   "source": [
    "# Extract features (study hours) and target variable (pass/fail)\n",
    "X = df[\"study_hours\"].values.reshape(-1, 1)  # Convert to 2D array\n",
    "y = df[\"pass_exam\"].values  # Target labels\n",
    "\n",
    "# Add bias term (column of ones)\n",
    "X_bias = np.c_[np.ones(X.shape[0]), X]  # Concatenate column of ones\n",
    "\n",
    "# Display first few rows\n",
    "print(\"Feature Matrix (with Bias):\\n\", X_bias[:5])\n",
    "print(\"Target Values:\\n\", y[:5])\n"
   ]
  },
  {
   "cell_type": "code",
   "execution_count": 9,
   "id": "43d52e3a-b671-4e35-b6ae-164c8ab97913",
   "metadata": {},
   "outputs": [
    {
     "name": "stdout",
     "output_type": "stream",
     "text": [
      "Initial Cost: 0.6931471805599454\n"
     ]
    }
   ],
   "source": [
    "# Cost function (tells us how wrong our model is)\n",
    "def cost_function(X, y, weights):\n",
    "    m = len(y)\n",
    "    predictions = sigmoid(np.dot(X, weights))\n",
    "    cost = (-1/m) * np.sum(y * np.log(predictions) + (1 - y) * np.log(1 - predictions))\n",
    "    return cost\n",
    "\n",
    "# Example test\n",
    "weights = np.zeros(X.shape[1])  # Start with weights as zeros\n",
    "print(\"Initial Cost:\", cost_function(X, y, weights))  # Should be a number\n"
   ]
  },
  {
   "cell_type": "code",
   "execution_count": 10,
   "id": "abe7a5d2-a029-411a-adc7-2f171c39a834",
   "metadata": {},
   "outputs": [
    {
     "name": "stdout",
     "output_type": "stream",
     "text": [
      "Initial Cost: 0.6931471805599454\n"
     ]
    }
   ],
   "source": [
    "# Cost function (measures how wrong the model is)\n",
    "def compute_cost(X, y, weights):\n",
    "    m = len(y)  # Number of training examples\n",
    "    z = np.dot(X, weights)  # Compute weighted sum\n",
    "    predictions = sigmoid(z)  # Apply sigmoid function\n",
    "    \n",
    "    # Binary Cross-Entropy Loss\n",
    "    cost = (-1/m) * np.sum(y * np.log(predictions) + (1 - y) * np.log(1 - predictions))\n",
    "    return cost\n",
    "\n",
    "# Initialize weights (all zeros)\n",
    "weights = np.zeros(X.shape[1])  \n",
    "\n",
    "# Compute initial cost\n",
    "initial_cost = compute_cost(X, y, weights)\n",
    "print(\"Initial Cost:\", initial_cost)  # Expected: A positive number\n"
   ]
  },
  {
   "cell_type": "code",
   "execution_count": 11,
   "id": "7f39130e-3217-438f-99c9-1119ac6499c7",
   "metadata": {},
   "outputs": [
    {
     "name": "stdout",
     "output_type": "stream",
     "text": [
      "Iteration 0, Cost: 0.5236\n",
      "Iteration 100, Cost: 0.5160\n",
      "Iteration 200, Cost: 0.5160\n",
      "Iteration 300, Cost: 0.5160\n",
      "Iteration 400, Cost: 0.5160\n",
      "Iteration 500, Cost: 0.5160\n",
      "Iteration 600, Cost: 0.5160\n",
      "Iteration 700, Cost: 0.5160\n",
      "Iteration 800, Cost: 0.5160\n",
      "Iteration 900, Cost: 0.5160\n",
      "Final Weights: [0.22893671]\n"
     ]
    }
   ],
   "source": [
    "# Gradient Descent Algorithm (helps the model learn)\n",
    "def gradient_descent(X, y, weights, learning_rate, iterations):\n",
    "    m = len(y)  # Number of training examples\n",
    "    \n",
    "    for i in range(iterations):  # Repeat for the given number of iterations\n",
    "        z = np.dot(X, weights)  # Compute weighted sum\n",
    "        predictions = sigmoid(z)  # Get probabilities\n",
    "\n",
    "        # Compute gradient (how much to change the weights)\n",
    "        gradient = np.dot(X.T, (predictions - y)) / m\n",
    "\n",
    "        # Update weights\n",
    "        weights -= learning_rate * gradient\n",
    "\n",
    "        # Print cost every 100 iterations (to track progress)\n",
    "        if i % 100 == 0:\n",
    "            cost = compute_cost(X, y, weights)\n",
    "            print(f\"Iteration {i}, Cost: {cost:.4f}\")\n",
    "\n",
    "    return weights  # Return the optimized weights\n",
    "\n",
    "# Train the model\n",
    "learning_rate = 0.1\n",
    "iterations = 1000\n",
    "weights = gradient_descent(X, y, np.zeros(X.shape[1]), learning_rate, iterations)\n",
    "\n",
    "print(\"Final Weights:\", weights)\n"
   ]
  },
  {
   "cell_type": "code",
   "execution_count": null,
   "id": "69fe0142-37cf-46b8-b8ae-8ce5678a3e6a",
   "metadata": {},
   "outputs": [],
   "source": []
  }
 ],
 "metadata": {
  "kernelspec": {
   "display_name": "tulsi",
   "language": "python",
   "name": "tulsi"
  },
  "language_info": {
   "codemirror_mode": {
    "name": "ipython",
    "version": 3
   },
   "file_extension": ".py",
   "mimetype": "text/x-python",
   "name": "python",
   "nbconvert_exporter": "python",
   "pygments_lexer": "ipython3",
   "version": "3.9.21"
  }
 },
 "nbformat": 4,
 "nbformat_minor": 5
}
