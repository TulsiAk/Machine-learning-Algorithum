{
 "cells": [
  {
   "cell_type": "code",
   "execution_count": 2,
   "id": "16abe17c-cafb-4310-b6fc-5f3e3a548022",
   "metadata": {},
   "outputs": [],
   "source": [
    "import numpy as np\n",
    "import pandas as pd\n",
    "import matplotlib.pyplot as plt"
   ]
  },
  {
   "cell_type": "code",
   "execution_count": 3,
   "id": "9c59fdb6-d86e-43a9-abd0-6bae3f98b2ff",
   "metadata": {},
   "outputs": [
    {
     "data": {
      "text/html": [
       "<div>\n",
       "<style scoped>\n",
       "    .dataframe tbody tr th:only-of-type {\n",
       "        vertical-align: middle;\n",
       "    }\n",
       "\n",
       "    .dataframe tbody tr th {\n",
       "        vertical-align: top;\n",
       "    }\n",
       "\n",
       "    .dataframe thead th {\n",
       "        text-align: right;\n",
       "    }\n",
       "</style>\n",
       "<table border=\"1\" class=\"dataframe\">\n",
       "  <thead>\n",
       "    <tr style=\"text-align: right;\">\n",
       "      <th></th>\n",
       "      <th>Unnamed: 0</th>\n",
       "      <th>id</th>\n",
       "      <th>member_id</th>\n",
       "      <th>loan_amnt</th>\n",
       "      <th>funded_amnt</th>\n",
       "      <th>funded_amnt_inv</th>\n",
       "      <th>term</th>\n",
       "      <th>int_rate</th>\n",
       "      <th>installment</th>\n",
       "      <th>emp_length</th>\n",
       "      <th>...</th>\n",
       "      <th>total_acc</th>\n",
       "      <th>total_pymnt</th>\n",
       "      <th>total_pymnt_inv</th>\n",
       "      <th>total_rec_prncp</th>\n",
       "      <th>total_rec_int</th>\n",
       "      <th>last_pymnt_d</th>\n",
       "      <th>last_pymnt_amnt</th>\n",
       "      <th>next_pymnt_d</th>\n",
       "      <th>last_credit_pull_d</th>\n",
       "      <th>repay_fail</th>\n",
       "    </tr>\n",
       "  </thead>\n",
       "  <tbody>\n",
       "    <tr>\n",
       "      <th>0</th>\n",
       "      <td>2</td>\n",
       "      <td>2</td>\n",
       "      <td>2</td>\n",
       "      <td>0.0</td>\n",
       "      <td>0.0</td>\n",
       "      <td>0.0</td>\n",
       "      <td>36 months</td>\n",
       "      <td>0.00</td>\n",
       "      <td>0.00</td>\n",
       "      <td>&lt; 1 year</td>\n",
       "      <td>...</td>\n",
       "      <td>1.0</td>\n",
       "      <td>0.000000</td>\n",
       "      <td>0.00</td>\n",
       "      <td>0.00</td>\n",
       "      <td>0.00</td>\n",
       "      <td>Jan-07</td>\n",
       "      <td>0.00</td>\n",
       "      <td>Jan-07</td>\n",
       "      <td>Jan-07</td>\n",
       "      <td>1</td>\n",
       "    </tr>\n",
       "    <tr>\n",
       "      <th>1</th>\n",
       "      <td>3</td>\n",
       "      <td>545583</td>\n",
       "      <td>703644</td>\n",
       "      <td>2500.0</td>\n",
       "      <td>2500.0</td>\n",
       "      <td>2500.0</td>\n",
       "      <td>36 months</td>\n",
       "      <td>13.98</td>\n",
       "      <td>85.42</td>\n",
       "      <td>4 years</td>\n",
       "      <td>...</td>\n",
       "      <td>10.0</td>\n",
       "      <td>3075.291779</td>\n",
       "      <td>3075.29</td>\n",
       "      <td>2500.00</td>\n",
       "      <td>575.29</td>\n",
       "      <td>Jul-13</td>\n",
       "      <td>90.85</td>\n",
       "      <td>Aug-13</td>\n",
       "      <td>Jun-16</td>\n",
       "      <td>0</td>\n",
       "    </tr>\n",
       "    <tr>\n",
       "      <th>2</th>\n",
       "      <td>4</td>\n",
       "      <td>532101</td>\n",
       "      <td>687836</td>\n",
       "      <td>5000.0</td>\n",
       "      <td>5000.0</td>\n",
       "      <td>5000.0</td>\n",
       "      <td>36 months</td>\n",
       "      <td>15.95</td>\n",
       "      <td>175.67</td>\n",
       "      <td>4 years</td>\n",
       "      <td>...</td>\n",
       "      <td>15.0</td>\n",
       "      <td>2948.760000</td>\n",
       "      <td>2948.76</td>\n",
       "      <td>1909.02</td>\n",
       "      <td>873.81</td>\n",
       "      <td>Nov-11</td>\n",
       "      <td>175.67</td>\n",
       "      <td>NaN</td>\n",
       "      <td>Mar-12</td>\n",
       "      <td>1</td>\n",
       "    </tr>\n",
       "    <tr>\n",
       "      <th>3</th>\n",
       "      <td>5</td>\n",
       "      <td>877788</td>\n",
       "      <td>1092507</td>\n",
       "      <td>7000.0</td>\n",
       "      <td>7000.0</td>\n",
       "      <td>7000.0</td>\n",
       "      <td>36 months</td>\n",
       "      <td>9.91</td>\n",
       "      <td>225.58</td>\n",
       "      <td>10+ years</td>\n",
       "      <td>...</td>\n",
       "      <td>20.0</td>\n",
       "      <td>8082.391880</td>\n",
       "      <td>8082.39</td>\n",
       "      <td>7000.00</td>\n",
       "      <td>1082.39</td>\n",
       "      <td>Mar-14</td>\n",
       "      <td>1550.27</td>\n",
       "      <td>NaN</td>\n",
       "      <td>Mar-14</td>\n",
       "      <td>0</td>\n",
       "    </tr>\n",
       "    <tr>\n",
       "      <th>4</th>\n",
       "      <td>6</td>\n",
       "      <td>875406</td>\n",
       "      <td>1089981</td>\n",
       "      <td>2000.0</td>\n",
       "      <td>2000.0</td>\n",
       "      <td>2000.0</td>\n",
       "      <td>36 months</td>\n",
       "      <td>5.42</td>\n",
       "      <td>60.32</td>\n",
       "      <td>10+ years</td>\n",
       "      <td>...</td>\n",
       "      <td>15.0</td>\n",
       "      <td>2161.663244</td>\n",
       "      <td>2161.66</td>\n",
       "      <td>2000.00</td>\n",
       "      <td>161.66</td>\n",
       "      <td>Feb-14</td>\n",
       "      <td>53.12</td>\n",
       "      <td>NaN</td>\n",
       "      <td>Jun-16</td>\n",
       "      <td>0</td>\n",
       "    </tr>\n",
       "  </tbody>\n",
       "</table>\n",
       "<p>5 rows × 37 columns</p>\n",
       "</div>"
      ],
      "text/plain": [
       "   Unnamed: 0      id  member_id  loan_amnt  funded_amnt  funded_amnt_inv  \\\n",
       "0           2       2          2        0.0          0.0              0.0   \n",
       "1           3  545583     703644     2500.0       2500.0           2500.0   \n",
       "2           4  532101     687836     5000.0       5000.0           5000.0   \n",
       "3           5  877788    1092507     7000.0       7000.0           7000.0   \n",
       "4           6  875406    1089981     2000.0       2000.0           2000.0   \n",
       "\n",
       "        term  int_rate  installment emp_length  ... total_acc  total_pymnt  \\\n",
       "0  36 months      0.00         0.00   < 1 year  ...       1.0     0.000000   \n",
       "1  36 months     13.98        85.42    4 years  ...      10.0  3075.291779   \n",
       "2  36 months     15.95       175.67    4 years  ...      15.0  2948.760000   \n",
       "3  36 months      9.91       225.58  10+ years  ...      20.0  8082.391880   \n",
       "4  36 months      5.42        60.32  10+ years  ...      15.0  2161.663244   \n",
       "\n",
       "  total_pymnt_inv total_rec_prncp total_rec_int last_pymnt_d last_pymnt_amnt  \\\n",
       "0            0.00            0.00          0.00       Jan-07            0.00   \n",
       "1         3075.29         2500.00        575.29       Jul-13           90.85   \n",
       "2         2948.76         1909.02        873.81       Nov-11          175.67   \n",
       "3         8082.39         7000.00       1082.39       Mar-14         1550.27   \n",
       "4         2161.66         2000.00        161.66       Feb-14           53.12   \n",
       "\n",
       "  next_pymnt_d  last_credit_pull_d  repay_fail  \n",
       "0       Jan-07              Jan-07           1  \n",
       "1       Aug-13              Jun-16           0  \n",
       "2          NaN              Mar-12           1  \n",
       "3          NaN              Mar-14           0  \n",
       "4          NaN              Jun-16           0  \n",
       "\n",
       "[5 rows x 37 columns]"
      ]
     },
     "execution_count": 3,
     "metadata": {},
     "output_type": "execute_result"
    }
   ],
   "source": [
    "df= pd.read_csv(\"E:/Anonymize_Loan_Default_data.csv/Anonymize_Loan_Default_data.csv\", encoding=\"ISO-8859-1\")\n",
    "df.head()"
   ]
  },
  {
   "cell_type": "code",
   "execution_count": 5,
   "id": "8af983ce-e5a7-44ee-9f58-69730e0f065e",
   "metadata": {},
   "outputs": [],
   "source": [
    "df = df.dropna(subset=[\"loan_amnt\", \"int_rate\", \"repay_fail\"])\n",
    "x = df[[\"loan_amnt\", \"int_rate\"]].values\n",
    "y = df[\"repay_fail\"].values.reshape(-1, 1) "
   ]
  },
  {
   "cell_type": "code",
   "execution_count": 6,
   "id": "5246327d-a932-45f4-8682-9bfe84eea105",
   "metadata": {},
   "outputs": [],
   "source": [
    "x = (x - np.mean(x, axis=0)) / np.std(x, axis=0)\n",
    "x = np.c_[np.ones(x.shape[0]), x]\n",
    "s = int(0.8 * len(x))\n",
    "x_train, x_test = x[:s], x[s:]\n",
    "y_train, y_test = y[:s], y[s:]"
   ]
  },
  {
   "cell_type": "code",
   "execution_count": 7,
   "id": "b4eb8fa2-bf26-4390-8a89-3455d86c195c",
   "metadata": {},
   "outputs": [],
   "source": [
    "def sigmoid(z):\n",
    "    return 1 / (1 + np.exp(-z))"
   ]
  },
  {
   "cell_type": "code",
   "execution_count": 8,
   "id": "8580e8f4-982e-4698-9d8a-52c2550dfe6d",
   "metadata": {},
   "outputs": [
    {
     "data": {
      "image/png": "[encoded data removed]",
      "text/plain": [
       "<Figure size 640x480 with 1 Axes>"
      ]
     },
     "metadata": {},
     "output_type": "display_data"
    }
   ],
   "source": [
    "z = np.linspace(-10, 10, 100)\n",
    "plt.plot(z, sigmoid(z), label=\"Sigmoid Curve\")\n",
    "plt.xlabel(\"z\")\n",
    "plt.ylabel(\"sigmoid(z)\")\n",
    "plt.title(\"Sigmoid Function\")\n",
    "plt.show()"
   ]
  },
  {
   "cell_type": "code",
   "execution_count": 26,
   "id": "50128e6f-35c6-4346-8b96-b79d8c5cb0fb",
   "metadata": {},
   "outputs": [
    {
     "name": "stdout",
     "output_type": "stream",
     "text": [
      "<function cost at 0x000002525B61BB80>\n"
     ]
    }
   ],
   "source": [
    "def cost(x, y, w, b, lambda_reg):\n",
    "    m = len(y)\n",
    "    z = np.dot(x, w) + b\n",
    "    predictions = sigmoid(z)\n",
    "    loss = (-y * np.log(predictions)) - ((1 - y) * np.log(1 - predictions))\n",
    "    cost = (np.sum(loss) + lambda_reg * np.sum(w ** 2)) / m\n",
    "    return cost\n",
    "print(cost)"
   ]
  },
  {
   "cell_type": "code",
   "execution_count": 12,
   "id": "773de167-51d0-42e9-a033-dd5e79a416f0",
   "metadata": {},
   "outputs": [],
   "source": [
    "def gradients(x, y, w, b, lambda_reg):\n",
    "    m = len(y)\n",
    "    z = np.dot(x, w) + b\n",
    "    predictions = sigmoid(z)\n",
    "    error = predictions - y\n",
    "    dw = (np.dot(x.T, error) + lambda_reg * w) / m\n",
    "    db = np.sum(error) / m\n",
    "    return dw, db"
   ]
  },
  {
   "cell_type": "code",
   "execution_count": 21,
   "id": "55639ab5-82ed-4500-9bf6-9f49d51492fc",
   "metadata": {},
   "outputs": [],
   "source": [
    "w = np.zeros((x.shape[1], 1))  \n",
    "b = 0\n",
    "alpha = 0.01  \n",
    "iterations = 500\n",
    "lambda_values = [0.0001, 1, 100] #ugo "
   ]
  },
  {
   "cell_type": "code",
   "execution_count": 22,
   "id": "3df8f1d3-3104-4186-8024-86b102019655",
   "metadata": {},
   "outputs": [],
   "source": [
    "costs_all = {}\n",
    "\n",
    "for lambda_reg in lambda_values:\n",
    "    w = np.zeros((x.shape[1], 1))\n",
    "    b = 0\n",
    "    costs = []\n",
    "\n",
    "    for i in range(iterations):\n",
    "        dw, db = gradients(x_train, y_train, w, b, lambda_reg)\n",
    "        w -= alpha * dw\n",
    "        b -= alpha * db\n",
    "        costs.append(cost(x_train, y_train, w, b, lambda_reg))\n",
    "    \n",
    "    costs_all[lambda_reg] = costs"
   ]
  },
  {
   "cell_type": "code",
   "execution_count": 27,
   "id": "68e3261c-56e0-4515-93ce-ded13624456c",
   "metadata": {},
   "outputs": [
    {
     "data": {
      "image/png": "[encoded data removed]",
      "text/plain": [
       "<Figure size 640x480 with 1 Axes>"
      ]
     },
     "metadata": {},
     "output_type": "display_data"
    }
   ],
   "source": [
    "plt.figure()\n",
    "for lambda_reg, cost_values in costs_all.items():\n",
    "    plt.plot(range(iterations), cost_values, label=f\"λ = {lambda_reg}\")\n",
    "plt.xlabel(\"Iterations\")\n",
    "plt.ylabel(\"Cost\")\n",
    "plt.title(\"Cost Function with Regularization\")\n",
    "plt.show()"
   ]
  },
  {
   "cell_type": "code",
   "execution_count": null,
   "id": "02af4bef-ef35-4677-b015-07c74f7db265",
   "metadata": {},
   "outputs": [],
   "source": []
  }
 ],
 "metadata": {
  "kernelspec": {
   "display_name": "tulsi",
   "language": "python",
   "name": "tulsi"
  },
  "language_info": {
   "codemirror_mode": {
    "name": "ipython",
    "version": 3
   },
   "file_extension": ".py",
   "mimetype": "text/x-python",
   "name": "python",
   "nbconvert_exporter": "python",
   "pygments_lexer": "ipython3",
   "version": "3.9.21"
  }
 },
 "nbformat": 4,
 "nbformat_minor": 5
}
