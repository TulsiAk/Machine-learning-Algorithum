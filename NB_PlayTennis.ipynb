{
 "cells": [
  {
   "cell_type": "code",
   "execution_count": 1,
   "id": "e03839c2-ab2f-461f-8047-e621ed9bfea3",
   "metadata": {},
   "outputs": [],
   "source": [
    "import pandas as pd\n",
    "import numpy as np\n",
    "import math"
   ]
  },
  {
   "cell_type": "code",
   "execution_count": 5,
   "id": "bf30e142-ddf9-44a9-9f4e-0e44a17cd562",
   "metadata": {},
   "outputs": [
    {
     "data": {
      "text/html": [
       "<div>\n",
       "<style scoped>\n",
       "    .dataframe tbody tr th:only-of-type {\n",
       "        vertical-align: middle;\n",
       "    }\n",
       "\n",
       "    .dataframe tbody tr th {\n",
       "        vertical-align: top;\n",
       "    }\n",
       "\n",
       "    .dataframe thead th {\n",
       "        text-align: right;\n",
       "    }\n",
       "</style>\n",
       "<table border=\"1\" class=\"dataframe\">\n",
       "  <thead>\n",
       "    <tr style=\"text-align: right;\">\n",
       "      <th></th>\n",
       "      <th>Outlook</th>\n",
       "      <th>Temperature</th>\n",
       "      <th>Humidity</th>\n",
       "      <th>Windy</th>\n",
       "      <th>Play</th>\n",
       "    </tr>\n",
       "  </thead>\n",
       "  <tbody>\n",
       "    <tr>\n",
       "      <th>0</th>\n",
       "      <td>Sunny</td>\n",
       "      <td>Hot</td>\n",
       "      <td>High</td>\n",
       "      <td>Weak</td>\n",
       "      <td>No</td>\n",
       "    </tr>\n",
       "    <tr>\n",
       "      <th>1</th>\n",
       "      <td>Sunny</td>\n",
       "      <td>Hot</td>\n",
       "      <td>High</td>\n",
       "      <td>Strong</td>\n",
       "      <td>No</td>\n",
       "    </tr>\n",
       "    <tr>\n",
       "      <th>2</th>\n",
       "      <td>Overcast</td>\n",
       "      <td>Hot</td>\n",
       "      <td>High</td>\n",
       "      <td>Weak</td>\n",
       "      <td>Yes</td>\n",
       "    </tr>\n",
       "    <tr>\n",
       "      <th>3</th>\n",
       "      <td>Rain</td>\n",
       "      <td>Mild</td>\n",
       "      <td>High</td>\n",
       "      <td>Weak</td>\n",
       "      <td>Yes</td>\n",
       "    </tr>\n",
       "    <tr>\n",
       "      <th>4</th>\n",
       "      <td>Rain</td>\n",
       "      <td>Cool</td>\n",
       "      <td>Normal</td>\n",
       "      <td>Weak</td>\n",
       "      <td>Yes</td>\n",
       "    </tr>\n",
       "    <tr>\n",
       "      <th>5</th>\n",
       "      <td>Rain</td>\n",
       "      <td>Cool</td>\n",
       "      <td>Normal</td>\n",
       "      <td>Strong</td>\n",
       "      <td>No</td>\n",
       "    </tr>\n",
       "    <tr>\n",
       "      <th>6</th>\n",
       "      <td>Overcast</td>\n",
       "      <td>Cool</td>\n",
       "      <td>Normal</td>\n",
       "      <td>Strong</td>\n",
       "      <td>Yes</td>\n",
       "    </tr>\n",
       "    <tr>\n",
       "      <th>7</th>\n",
       "      <td>Sunny</td>\n",
       "      <td>Mild</td>\n",
       "      <td>High</td>\n",
       "      <td>Weak</td>\n",
       "      <td>No</td>\n",
       "    </tr>\n",
       "    <tr>\n",
       "      <th>8</th>\n",
       "      <td>Sunny</td>\n",
       "      <td>Cool</td>\n",
       "      <td>Normal</td>\n",
       "      <td>Weak</td>\n",
       "      <td>Yes</td>\n",
       "    </tr>\n",
       "    <tr>\n",
       "      <th>9</th>\n",
       "      <td>Rain</td>\n",
       "      <td>Mild</td>\n",
       "      <td>Normal</td>\n",
       "      <td>Weak</td>\n",
       "      <td>Yes</td>\n",
       "    </tr>\n",
       "    <tr>\n",
       "      <th>10</th>\n",
       "      <td>Sunny</td>\n",
       "      <td>Mild</td>\n",
       "      <td>Normal</td>\n",
       "      <td>Strong</td>\n",
       "      <td>Yes</td>\n",
       "    </tr>\n",
       "    <tr>\n",
       "      <th>11</th>\n",
       "      <td>Overcast</td>\n",
       "      <td>Mild</td>\n",
       "      <td>High</td>\n",
       "      <td>Strong</td>\n",
       "      <td>Yes</td>\n",
       "    </tr>\n",
       "    <tr>\n",
       "      <th>12</th>\n",
       "      <td>Overcast</td>\n",
       "      <td>Hot</td>\n",
       "      <td>Normal</td>\n",
       "      <td>Weak</td>\n",
       "      <td>Yes</td>\n",
       "    </tr>\n",
       "    <tr>\n",
       "      <th>13</th>\n",
       "      <td>Rain</td>\n",
       "      <td>Mild</td>\n",
       "      <td>High</td>\n",
       "      <td>Strong</td>\n",
       "      <td>No</td>\n",
       "    </tr>\n",
       "  </tbody>\n",
       "</table>\n",
       "</div>"
      ],
      "text/plain": [
       "     Outlook Temperature Humidity   Windy Play\n",
       "0      Sunny         Hot     High    Weak   No\n",
       "1      Sunny         Hot     High  Strong   No\n",
       "2   Overcast         Hot     High    Weak  Yes\n",
       "3       Rain        Mild     High    Weak  Yes\n",
       "4       Rain        Cool   Normal    Weak  Yes\n",
       "5       Rain        Cool   Normal  Strong   No\n",
       "6   Overcast        Cool   Normal  Strong  Yes\n",
       "7      Sunny        Mild     High    Weak   No\n",
       "8      Sunny        Cool   Normal    Weak  Yes\n",
       "9       Rain        Mild   Normal    Weak  Yes\n",
       "10     Sunny        Mild   Normal  Strong  Yes\n",
       "11  Overcast        Mild     High  Strong  Yes\n",
       "12  Overcast         Hot   Normal    Weak  Yes\n",
       "13      Rain        Mild     High  Strong   No"
      ]
     },
     "execution_count": 5,
     "metadata": {},
     "output_type": "execute_result"
    }
   ],
   "source": [
    "wthr_df = pd.read_csv('weather_forecast.csv')\n",
    "wthr_df"
   ]
  },
  {
   "cell_type": "code",
   "execution_count": 11,
   "id": "7afcea25-a6a3-42c7-8e3d-fbed741cff85",
   "metadata": {},
   "outputs": [
    {
     "name": "stdout",
     "output_type": "stream",
     "text": [
      "Rows: 14 Columns: 5\n"
     ]
    }
   ],
   "source": [
    "print(\"Rows:\", wthr_df.shape[0], \"Columns:\", wthr_df.shape[1])"
   ]
  },
  {
   "cell_type": "code",
   "execution_count": 15,
   "id": "62af7e4c-96ab-4265-989f-2eddebe3a000",
   "metadata": {},
   "outputs": [
    {
     "name": "stdout",
     "output_type": "stream",
     "text": [
      "<class 'pandas.core.frame.DataFrame'>\n",
      "RangeIndex: 14 entries, 0 to 13\n",
      "Data columns (total 5 columns):\n",
      " #   Column       Non-Null Count  Dtype \n",
      "---  ------       --------------  ----- \n",
      " 0   Outlook      14 non-null     object\n",
      " 1   Temperature  14 non-null     object\n",
      " 2   Humidity     14 non-null     object\n",
      " 3   Windy        14 non-null     object\n",
      " 4   Play         14 non-null     object\n",
      "dtypes: object(5)\n",
      "memory usage: 692.0+ bytes\n",
      "None\n"
     ]
    }
   ],
   "source": [
    "print(wthr_df.info())"
   ]
  },
  {
   "cell_type": "code",
   "execution_count": 17,
   "id": "c1644465-8446-4228-b259-b468c188192c",
   "metadata": {},
   "outputs": [
    {
     "name": "stdout",
     "output_type": "stream",
     "text": [
      "\n",
      "Distinct values for each feature:\n",
      "Outlook: ['Sunny' 'Overcast' 'Rain'] (3)\n",
      "Temperature: ['Hot' 'Mild' 'Cool'] (3)\n",
      "Humidity: ['High' 'Normal'] (2)\n",
      "Windy: ['Weak' 'Strong'] (2)\n"
     ]
    }
   ],
   "source": [
    "print(\"\\nDistinct values for each feature:\")\n",
    "for col in wthr_df.columns[:-1]:\n",
    "    print(f\"{col}: {wthr_df[col].unique()} ({wthr_df[col].nunique()})\")"
   ]
  },
  {
   "cell_type": "code",
   "execution_count": 19,
   "id": "06f700e5-889d-418d-8cfe-b1c19be57a81",
   "metadata": {},
   "outputs": [
    {
     "name": "stdout",
     "output_type": "stream",
     "text": [
      "\n",
      "Class label:\n",
      "Play\n",
      "Yes    9\n",
      "No     5\n",
      "Name: count, dtype: int64\n"
     ]
    }
   ],
   "source": [
    "print(\"\\nClass label:\")\n",
    "print(wthr_df[wthr_df.columns[-1]].value_counts())"
   ]
  },
  {
   "cell_type": "code",
   "execution_count": 57,
   "id": "ccaa2dda-78eb-4646-a5f5-8c127a86c42b",
   "metadata": {},
   "outputs": [
    {
     "name": "stdout",
     "output_type": "stream",
     "text": [
      "\n",
      "Class-label Prior probabilities:\n",
      "P(Yes) = 9/14\n",
      "P(No) = 5/14\n",
      "\n",
      "Feature-wise Conditional Probabilities (Likelihood):\n",
      "\n",
      "Feature: Outlook\n",
      "P(Outlook = Sunny | Play = Yes) = 0.2222\n",
      "P(Outlook = Sunny | Play = No) = 0.6\n",
      "P(Outlook = Overcast | Play = Yes) = 0.4444\n",
      "P(Outlook = Overcast | Play = No) = 0.0\n",
      "P(Outlook = Rain | Play = Yes) = 0.3333\n",
      "P(Outlook = Rain | Play = No) = 0.4\n",
      "\n",
      "Feature: Temperature\n",
      "P(Temperature = Hot | Play = Yes) = 0.2222\n",
      "P(Temperature = Hot | Play = No) = 0.4\n",
      "P(Temperature = Mild | Play = Yes) = 0.4444\n",
      "P(Temperature = Mild | Play = No) = 0.4\n",
      "P(Temperature = Cool | Play = Yes) = 0.3333\n",
      "P(Temperature = Cool | Play = No) = 0.2\n",
      "\n",
      "Feature: Humidity\n",
      "P(Humidity = High | Play = Yes) = 0.3333\n",
      "P(Humidity = High | Play = No) = 0.8\n",
      "P(Humidity = Normal | Play = Yes) = 0.6667\n",
      "P(Humidity = Normal | Play = No) = 0.2\n",
      "\n",
      "Feature: Windy\n",
      "P(Windy = Weak | Play = Yes) = 0.6667\n",
      "P(Windy = Weak | Play = No) = 0.4\n",
      "P(Windy = Strong | Play = Yes) = 0.3333\n",
      "P(Windy = Strong | Play = No) = 0.6\n"
     ]
    }
   ],
   "source": [
    "def get_count(data, condition):\n",
    "    counts = {}\n",
    "    for item in data:\n",
    "        key = condition(item)\n",
    "        counts[key] = counts.get(key, 0) + 1\n",
    "    return counts\n",
    "\n",
    "def NaiveBayes(df):\n",
    "    N, cols = df.shape\n",
    "    f_names = df.columns[:-1]\n",
    "    l_name = df.columns[-1]\n",
    "    labels = df[l_name].value_counts().to_dict()\n",
    "    cl_p = {label: count / N for label, count in labels.items()}\n",
    "    \n",
    "    print(\"\\nClass-label Prior probabilities:\")\n",
    "    for label, count in labels.items():\n",
    "        print(f\"P({label}) = {count}/{N}\")\n",
    "    \n",
    "    def fit():\n",
    "        model = {}\n",
    "        print(\"\\nFeature-wise Conditional Probabilities (Likelihood):\")\n",
    "        for f_name in f_names:\n",
    "            print(f\"\\nFeature: {f_name}\")\n",
    "            vals = df[[f_name, l_name]].values\n",
    "            f_count = get_count(vals, lambda item: item[0] + item[1])\n",
    "            \n",
    "            for feature in df[f_name].unique():\n",
    "                for label, count in labels.items():\n",
    "                    aib = f_count.get(feature + label, 0)\n",
    "                    prob = aib / count if count != 0 else 0\n",
    "                    model[(f_name, feature, label)] = prob\n",
    "                    print(f\"P({f_name} = {feature} | {l_name} = {label}) = {round(prob, 4)}\")\n",
    "        \n",
    "        def predict(x_qs):\n",
    "            sigma_cl = {}\n",
    "            for label, prior in cl_p.items():\n",
    "                sigma = math.log(prior)\n",
    "                for idx, x_q in enumerate(x_qs):\n",
    "                    cp = model.get((f_names[idx], x_q, label), 1e-10)\n",
    "                    sigma += math.log(cp)\n",
    "                sigma_cl[label] = sigma\n",
    "\n",
    "            return max(sigma_cl, key=sigma_cl.get)\n",
    "        \n",
    "        return predict\n",
    "    \n",
    "    return fit\n",
    "\n",
    "fit = NaiveBayes(wthr_df)\n",
    "predict = fit()\n"
   ]
  },
  {
   "cell_type": "code",
   "execution_count": 59,
   "id": "ffae2fc3-05ac-42b0-b4f0-29373b4d8eb3",
   "metadata": {},
   "outputs": [
    {
     "name": "stdout",
     "output_type": "stream",
     "text": [
      "\n",
      "Test Model\n"
     ]
    }
   ],
   "source": [
    "print(\"\\nTest Model\")"
   ]
  },
  {
   "cell_type": "code",
   "execution_count": 61,
   "id": "f1affc0a-cff3-46ad-86fa-f411861469ed",
   "metadata": {},
   "outputs": [
    {
     "name": "stdout",
     "output_type": "stream",
     "text": [
      "Query point: ['Sunny', 'Cool', 'High', 'Strong']\n",
      "Output: No\n"
     ]
    }
   ],
   "source": [
    "print(\"Query point: ['Sunny', 'Cool', 'High', 'Strong']\")\n",
    "print(\"Output:\", predict(['Sunny', 'Cool', 'High', 'Strong']))"
   ]
  },
  {
   "cell_type": "code",
   "execution_count": 63,
   "id": "ed49481d-0ca5-4112-965d-f47018b56cb8",
   "metadata": {},
   "outputs": [
    {
     "name": "stdout",
     "output_type": "stream",
     "text": [
      "Query point: ['Sunny', 'Cool', 'Low', 'Strong']\n",
      "Output: No\n"
     ]
    }
   ],
   "source": [
    "print(\"Query point: ['Sunny', 'Cool', 'Low', 'Strong']\")\n",
    "print(\"Output:\", predict(['Sunny', 'Cool', 'Low', 'Strong']))"
   ]
  },
  {
   "cell_type": "code",
   "execution_count": 65,
   "id": "078c6cff-6275-498e-9bb2-2155a473a347",
   "metadata": {},
   "outputs": [
    {
     "name": "stdout",
     "output_type": "stream",
     "text": [
      "Query point: ['Sunny', 'Cool', 'Low', 'Weak']\n",
      "Output: Yes\n"
     ]
    }
   ],
   "source": [
    "print(\"Query point: ['Sunny', 'Cool', 'Low', 'Weak']\")\n",
    "print(\"Output:\", predict(['Sunny', 'Cool', 'Low', 'Weak']))"
   ]
  },
  {
   "cell_type": "code",
   "execution_count": null,
   "id": "6eb9a464-edaf-4288-9d86-d9c3519736c6",
   "metadata": {},
   "outputs": [],
   "source": []
  }
 ],
 "metadata": {
  "kernelspec": {
   "display_name": "tulsi",
   "language": "python",
   "name": "tulsi"
  },
  "language_info": {
   "codemirror_mode": {
    "name": "ipython",
    "version": 3
   },
   "file_extension": ".py",
   "mimetype": "text/x-python",
   "name": "python",
   "nbconvert_exporter": "python",
   "pygments_lexer": "ipython3",
   "version": "3.9.21"
  }
 },
 "nbformat": 4,
 "nbformat_minor": 5
}
